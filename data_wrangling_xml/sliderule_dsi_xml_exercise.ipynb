{
 "cells": [
  {
   "cell_type": "markdown",
   "metadata": {},
   "source": [
    "# XML example and exercise\n",
    "****\n",
    "+ study examples of accessing nodes in XML tree structure  \n",
    "+ work on exercise to be completed and submitted\n",
    "****\n",
    "+ reference: https://docs.python.org/2.7/library/xml.etree.elementtree.html\n",
    "+ data source: http://www.dbis.informatik.uni-goettingen.de/Mondial\n",
    "****"
   ]
  },
  {
   "cell_type": "code",
   "execution_count": 1,
   "metadata": {
    "collapsed": true
   },
   "outputs": [],
   "source": [
    "from xml.etree import ElementTree as ET\n",
    "import pandas as pd\n",
    "from collections import Counter"
   ]
  },
  {
   "cell_type": "markdown",
   "metadata": {},
   "source": [
    "## XML example\n",
    "\n",
    "+ for details about tree traversal and iterators, see https://docs.python.org/2.7/library/xml.etree.elementtree.html"
   ]
  },
  {
   "cell_type": "code",
   "execution_count": 2,
   "metadata": {
    "collapsed": true
   },
   "outputs": [],
   "source": [
    "document_tree = ET.parse( './data/mondial_database_less.xml' )"
   ]
  },
  {
   "cell_type": "code",
   "execution_count": 3,
   "metadata": {
    "collapsed": false
   },
   "outputs": [
    {
     "name": "stdout",
     "output_type": "stream",
     "text": [
      "Albania\n",
      "Greece\n",
      "Macedonia\n",
      "Serbia\n",
      "Montenegro\n",
      "Kosovo\n",
      "Andorra\n"
     ]
    }
   ],
   "source": [
    "# print names of all countries\n",
    "for child in document_tree.getroot():\n",
    "    print(child.find('name').text)"
   ]
  },
  {
   "cell_type": "code",
   "execution_count": 4,
   "metadata": {
    "collapsed": false
   },
   "outputs": [
    {
     "name": "stdout",
     "output_type": "stream",
     "text": [
      "* Albania:\n",
      "Tirana, Shkodër, Durrës, Vlorë, Elbasan, Korçë\n",
      "* Greece:\n",
      "Komotini, Kavala, Athina, Peiraias, Peristeri, Acharnes, Patra, Kozani, Kerkyra, Ioannina, Thessaloniki, Iraklio, Chania, Ermoupoli, Rhodes, Tripoli, Lamia, Chalkida, Larissa, Volos, Mytilini, Karyes\n",
      "* Macedonia:\n",
      "Skopje, Kumanovo\n",
      "* Serbia:\n",
      "Beograd, Novi Sad, Niš\n",
      "* Montenegro:\n",
      "Podgorica\n",
      "* Kosovo:\n",
      "Prishtine\n",
      "* Andorra:\n",
      "Andorra la Vella\n"
     ]
    }
   ],
   "source": [
    "# print names of all countries and their cities\n",
    "for element in document_tree.iterfind('country'):\n",
    "    print('* ' + element.find('name').text + ':')\n",
    "    capitals_string = \"\"\n",
    "    for subelement in element.getiterator('city'):\n",
    "        capitals_string += subelement.find('name').text + ', '\n",
    "    print(capitals_string[:-2])"
   ]
  },
  {
   "cell_type": "markdown",
   "metadata": {},
   "source": [
    "****\n",
    "## XML exercise\n",
    "\n",
    "Using data in 'data/mondial_database.xml', the examples above, and refering to https://docs.python.org/2.7/library/xml.etree.elementtree.html, find\n",
    "\n",
    "1. 10 countries with the lowest infant mortality rates\n",
    "2. 10 cities with the largest population\n",
    "3. 10 ethnic groups with the largest overall populations (sum of best/latest estimates over all countries)\n",
    "4. name and country of a) longest river, b) largest lake and c) airport at highest elevation"
   ]
  },
  {
   "cell_type": "code",
   "execution_count": 5,
   "metadata": {
    "collapsed": false
   },
   "outputs": [],
   "source": [
    "document = ET.parse( './data/mondial_database.xml' )"
   ]
  },
  {
   "cell_type": "markdown",
   "metadata": {},
   "source": [
    "## Question 1"
   ]
  },
  {
   "cell_type": "markdown",
   "metadata": {},
   "source": [
    "I iterate over the countries. I extract both the infant mortality value and country name by using .find(), and place the values into two lists. I assign the countries with missing mortality data a very high value since we are looking for countries with the lowest infant mortality. I take the two lists and make them columns of a dataframe, and then use .sort_values() to sort by infant mortality. .head(10) gives the 10 lowest. "
   ]
  },
  {
   "cell_type": "code",
   "execution_count": 6,
   "metadata": {
    "collapsed": false
   },
   "outputs": [
    {
     "data": {
      "text/html": [
       "<div>\n",
       "<style>\n",
       "    .dataframe thead tr:only-child th {\n",
       "        text-align: right;\n",
       "    }\n",
       "\n",
       "    .dataframe thead th {\n",
       "        text-align: left;\n",
       "    }\n",
       "\n",
       "    .dataframe tbody tr th {\n",
       "        vertical-align: top;\n",
       "    }\n",
       "</style>\n",
       "<table border=\"1\" class=\"dataframe\">\n",
       "  <thead>\n",
       "    <tr style=\"text-align: right;\">\n",
       "      <th></th>\n",
       "      <th>country</th>\n",
       "      <th>infant_mortality</th>\n",
       "    </tr>\n",
       "  </thead>\n",
       "  <tbody>\n",
       "    <tr>\n",
       "      <th>38</th>\n",
       "      <td>Monaco</td>\n",
       "      <td>1.81</td>\n",
       "    </tr>\n",
       "    <tr>\n",
       "      <th>98</th>\n",
       "      <td>Japan</td>\n",
       "      <td>2.13</td>\n",
       "    </tr>\n",
       "    <tr>\n",
       "      <th>117</th>\n",
       "      <td>Bermuda</td>\n",
       "      <td>2.48</td>\n",
       "    </tr>\n",
       "    <tr>\n",
       "      <th>36</th>\n",
       "      <td>Norway</td>\n",
       "      <td>2.48</td>\n",
       "    </tr>\n",
       "    <tr>\n",
       "      <th>106</th>\n",
       "      <td>Singapore</td>\n",
       "      <td>2.53</td>\n",
       "    </tr>\n",
       "    <tr>\n",
       "      <th>37</th>\n",
       "      <td>Sweden</td>\n",
       "      <td>2.60</td>\n",
       "    </tr>\n",
       "    <tr>\n",
       "      <th>10</th>\n",
       "      <td>Czech Republic</td>\n",
       "      <td>2.63</td>\n",
       "    </tr>\n",
       "    <tr>\n",
       "      <th>78</th>\n",
       "      <td>Hong Kong</td>\n",
       "      <td>2.73</td>\n",
       "    </tr>\n",
       "    <tr>\n",
       "      <th>79</th>\n",
       "      <td>Macao</td>\n",
       "      <td>3.13</td>\n",
       "    </tr>\n",
       "    <tr>\n",
       "      <th>44</th>\n",
       "      <td>Iceland</td>\n",
       "      <td>3.15</td>\n",
       "    </tr>\n",
       "  </tbody>\n",
       "</table>\n",
       "</div>"
      ],
      "text/plain": [
       "            country  infant_mortality\n",
       "38           Monaco              1.81\n",
       "98            Japan              2.13\n",
       "117         Bermuda              2.48\n",
       "36           Norway              2.48\n",
       "106       Singapore              2.53\n",
       "37           Sweden              2.60\n",
       "10   Czech Republic              2.63\n",
       "78        Hong Kong              2.73\n",
       "79            Macao              3.13\n",
       "44          Iceland              3.15"
      ]
     },
     "execution_count": 6,
     "metadata": {},
     "output_type": "execute_result"
    }
   ],
   "source": [
    "mortality_vals = []\n",
    "countries_list = []\n",
    "for element in document.iterfind('country'):\n",
    "    countries_list.append(element.find(\"name\").text)\n",
    "    mor_elem = element.find('infant_mortality')\n",
    "    if mor_elem == None:\n",
    "        mortality_vals.append(1000)\n",
    "    else:\n",
    "        mortality_vals.append(float(mor_elem.text))                                              \n",
    "    \n",
    "mortality_df = pd.DataFrame({'country': countries_list, 'infant_mortality': mortality_vals})\n",
    "mortality_df.sort_values(\"infant_mortality\").head(10)"
   ]
  },
  {
   "cell_type": "markdown",
   "metadata": {},
   "source": [
    "## Question 2"
   ]
  },
  {
   "cell_type": "markdown",
   "metadata": {},
   "source": [
    "I iterate through all the countries and extract a second iterator for the population objects. I iterate through the population measurements and find the one associated with the most recent year. I then append the population associated with this year along with the country name to a list. I place these lists into a dataframe which I then sort in descending order of population and take the top 10."
   ]
  },
  {
   "cell_type": "code",
   "execution_count": 7,
   "metadata": {
    "collapsed": false
   },
   "outputs": [
    {
     "data": {
      "text/html": [
       "<div>\n",
       "<style>\n",
       "    .dataframe thead tr:only-child th {\n",
       "        text-align: right;\n",
       "    }\n",
       "\n",
       "    .dataframe thead th {\n",
       "        text-align: left;\n",
       "    }\n",
       "\n",
       "    .dataframe tbody tr th {\n",
       "        vertical-align: top;\n",
       "    }\n",
       "</style>\n",
       "<table border=\"1\" class=\"dataframe\">\n",
       "  <thead>\n",
       "    <tr style=\"text-align: right;\">\n",
       "      <th></th>\n",
       "      <th>country</th>\n",
       "      <th>population</th>\n",
       "    </tr>\n",
       "  </thead>\n",
       "  <tbody>\n",
       "    <tr>\n",
       "      <th>55</th>\n",
       "      <td>China</td>\n",
       "      <td>1360720000</td>\n",
       "    </tr>\n",
       "    <tr>\n",
       "      <th>67</th>\n",
       "      <td>India</td>\n",
       "      <td>1210854977</td>\n",
       "    </tr>\n",
       "    <tr>\n",
       "      <th>120</th>\n",
       "      <td>United States</td>\n",
       "      <td>318857056</td>\n",
       "    </tr>\n",
       "    <tr>\n",
       "      <th>88</th>\n",
       "      <td>Indonesia</td>\n",
       "      <td>252124458</td>\n",
       "    </tr>\n",
       "    <tr>\n",
       "      <th>176</th>\n",
       "      <td>Brazil</td>\n",
       "      <td>202768562</td>\n",
       "    </tr>\n",
       "    <tr>\n",
       "      <th>57</th>\n",
       "      <td>Pakistan</td>\n",
       "      <td>173149306</td>\n",
       "    </tr>\n",
       "    <tr>\n",
       "      <th>202</th>\n",
       "      <td>Nigeria</td>\n",
       "      <td>164294516</td>\n",
       "    </tr>\n",
       "    <tr>\n",
       "      <th>65</th>\n",
       "      <td>Bangladesh</td>\n",
       "      <td>149772364</td>\n",
       "    </tr>\n",
       "    <tr>\n",
       "      <th>23</th>\n",
       "      <td>Russia</td>\n",
       "      <td>143666931</td>\n",
       "    </tr>\n",
       "    <tr>\n",
       "      <th>98</th>\n",
       "      <td>Japan</td>\n",
       "      <td>127298000</td>\n",
       "    </tr>\n",
       "  </tbody>\n",
       "</table>\n",
       "</div>"
      ],
      "text/plain": [
       "           country  population\n",
       "55           China  1360720000\n",
       "67           India  1210854977\n",
       "120  United States   318857056\n",
       "88       Indonesia   252124458\n",
       "176         Brazil   202768562\n",
       "57        Pakistan   173149306\n",
       "202        Nigeria   164294516\n",
       "65      Bangladesh   149772364\n",
       "23          Russia   143666931\n",
       "98           Japan   127298000"
      ]
     },
     "execution_count": 7,
     "metadata": {},
     "output_type": "execute_result"
    }
   ],
   "source": [
    "pop_vals = []\n",
    "countries_list = []\n",
    "for element in document.iterfind('country'):\n",
    "    pop_iter = element.iterfind('population')\n",
    "    latest_year = 0\n",
    "    latest_year_pop = 0\n",
    "    for pop_elem in pop_iter:\n",
    "        elem_year = int(pop_elem.get(\"year\"))\n",
    "        if elem_year > latest_year:\n",
    "            latest_year = elem_year\n",
    "            latest_year_pop = int(pop_elem.text)\n",
    "        \n",
    "    countries_list.append(element.find(\"name\").text)\n",
    "    pop_vals.append(latest_year_pop)                                            \n",
    "    \n",
    "pop_df = pd.DataFrame({'country': countries_list, 'population': pop_vals})\n",
    "pop_df.sort_values(\"population\", ascending = False).head(10)"
   ]
  },
  {
   "cell_type": "markdown",
   "metadata": {},
   "source": [
    "## Question 3"
   ]
  },
  {
   "cell_type": "markdown",
   "metadata": {},
   "source": [
    "Here are the ethnic groups with the largest global populations:"
   ]
  },
  {
   "cell_type": "code",
   "execution_count": 8,
   "metadata": {
    "collapsed": false
   },
   "outputs": [
    {
     "data": {
      "text/html": [
       "<div>\n",
       "<style>\n",
       "    .dataframe thead tr:only-child th {\n",
       "        text-align: right;\n",
       "    }\n",
       "\n",
       "    .dataframe thead th {\n",
       "        text-align: left;\n",
       "    }\n",
       "\n",
       "    .dataframe tbody tr th {\n",
       "        vertical-align: top;\n",
       "    }\n",
       "</style>\n",
       "<table border=\"1\" class=\"dataframe\">\n",
       "  <thead>\n",
       "    <tr style=\"text-align: right;\">\n",
       "      <th></th>\n",
       "      <th>index</th>\n",
       "      <th>0</th>\n",
       "      <th>group_counts</th>\n",
       "    </tr>\n",
       "  </thead>\n",
       "  <tbody>\n",
       "    <tr>\n",
       "      <th>80</th>\n",
       "      <td>Han Chinese</td>\n",
       "      <td>124505880000</td>\n",
       "      <td>124505880000</td>\n",
       "    </tr>\n",
       "    <tr>\n",
       "      <th>106</th>\n",
       "      <td>Indo-Aryan</td>\n",
       "      <td>87181558344</td>\n",
       "      <td>87181558344</td>\n",
       "    </tr>\n",
       "    <tr>\n",
       "      <th>105</th>\n",
       "      <td>Dravidian</td>\n",
       "      <td>30271374425</td>\n",
       "      <td>30271374425</td>\n",
       "    </tr>\n",
       "    <tr>\n",
       "      <th>98</th>\n",
       "      <td>Bengali</td>\n",
       "      <td>14677691672</td>\n",
       "      <td>14677691672</td>\n",
       "    </tr>\n",
       "    <tr>\n",
       "      <th>139</th>\n",
       "      <td>Japanese</td>\n",
       "      <td>12653421200</td>\n",
       "      <td>12653421200</td>\n",
       "    </tr>\n",
       "    <tr>\n",
       "      <th>130</th>\n",
       "      <td>Eastern Hamitic</td>\n",
       "      <td>8283037653</td>\n",
       "      <td>8283037653</td>\n",
       "    </tr>\n",
       "    <tr>\n",
       "      <th>147</th>\n",
       "      <td>Mulatto</td>\n",
       "      <td>7806589637</td>\n",
       "      <td>7806589637</td>\n",
       "    </tr>\n",
       "    <tr>\n",
       "      <th>119</th>\n",
       "      <td>Viet/Kinh</td>\n",
       "      <td>7607837530</td>\n",
       "      <td>7607837530</td>\n",
       "    </tr>\n",
       "    <tr>\n",
       "      <th>70</th>\n",
       "      <td>English</td>\n",
       "      <td>5359232674</td>\n",
       "      <td>5359232674</td>\n",
       "    </tr>\n",
       "    <tr>\n",
       "      <th>17</th>\n",
       "      <td>Mediterranean Nordic</td>\n",
       "      <td>4681591600</td>\n",
       "      <td>4681591600</td>\n",
       "    </tr>\n",
       "  </tbody>\n",
       "</table>\n",
       "</div>"
      ],
      "text/plain": [
       "                    index             0  group_counts\n",
       "80            Han Chinese  124505880000  124505880000\n",
       "106            Indo-Aryan   87181558344   87181558344\n",
       "105             Dravidian   30271374425   30271374425\n",
       "98                Bengali   14677691672   14677691672\n",
       "139              Japanese   12653421200   12653421200\n",
       "130       Eastern Hamitic    8283037653    8283037653\n",
       "147               Mulatto    7806589637    7806589637\n",
       "119             Viet/Kinh    7607837530    7607837530\n",
       "70                English    5359232674    5359232674\n",
       "17   Mediterranean Nordic    4681591600    4681591600"
      ]
     },
     "execution_count": 8,
     "metadata": {},
     "output_type": "execute_result"
    }
   ],
   "source": [
    "group_counts = Counter()\n",
    "for element in document.iterfind('country'):\n",
    "    pop_iter = element.iterfind('population')\n",
    "    latest_year = 0\n",
    "    latest_year_pop = 0\n",
    "    for pop_elem in pop_iter:\n",
    "        elem_year = int(pop_elem.get(\"year\"))\n",
    "        if elem_year > latest_year:\n",
    "            latest_year = elem_year\n",
    "            latest_year_pop = int(pop_elem.text)\n",
    "            \n",
    "    group_iter = element.iterfind('ethnicgroup')\n",
    "    for group_elem in group_iter:\n",
    "        group_name = group_elem.text\n",
    "        group_percent = float(group_elem.get(\"percentage\"))\n",
    "        group_counts[group_name] = int(round(group_percent * latest_year_pop))                                            \n",
    "    \n",
    "group_df = pd.DataFrame.from_dict(group_counts, orient='index').reset_index()\n",
    "group_df[\"group_counts\"] = group_df.loc[:, 0]\n",
    "group_df.sort_values(\"group_counts\", ascending = False).head(10)"
   ]
  },
  {
   "cell_type": "markdown",
   "metadata": {
    "collapsed": true
   },
   "source": [
    "## Question 4"
   ]
  },
  {
   "cell_type": "markdown",
   "metadata": {},
   "source": [
    "Here is the longest river and the countries it travels through:"
   ]
  },
  {
   "cell_type": "code",
   "execution_count": 9,
   "metadata": {
    "collapsed": false
   },
   "outputs": [
    {
     "name": "stdout",
     "output_type": "stream",
     "text": [
      "Amazonas\n",
      "CO BR PE\n"
     ]
    }
   ],
   "source": [
    "longest_river_length = 0\n",
    "longest_river_name = \"None\"\n",
    "longest_river_country = \"None\"\n",
    "for element in document.iterfind('river'):\n",
    "    if element.find(\"length\") != None:\n",
    "        elem_length = float(element.find(\"length\").text)\n",
    "    elem_name = element.find(\"name\").text\n",
    "    elem_country = element.get(\"country\")\n",
    "    if elem_length > longest_river_length:\n",
    "        longest_river_length = elem_length\n",
    "        longest_river_name = elem_name\n",
    "        longest_river_country = elem_country\n",
    "    \n",
    "print(longest_river_name)\n",
    "print(longest_river_country)"
   ]
  },
  {
   "cell_type": "markdown",
   "metadata": {},
   "source": [
    "Here is the name and country of the largest lake:"
   ]
  },
  {
   "cell_type": "code",
   "execution_count": 10,
   "metadata": {
    "collapsed": false
   },
   "outputs": [
    {
     "name": "stdout",
     "output_type": "stream",
     "text": [
      "Lake Hume\n",
      "AUS\n"
     ]
    }
   ],
   "source": [
    "largest_lake_area = 0\n",
    "largest_lake_name = \"None\"\n",
    "largest_lake_country = \"None\"\n",
    "for element in document.iterfind('lake'):\n",
    "    if element.find(\"area\") != None:\n",
    "        elem_area = float(element.find(\"area\").text)\n",
    "    elem_name = element.find(\"name\").text\n",
    "    elem_country = element.get(\"country\")\n",
    "    if elem_length > largest_lake_area:\n",
    "        longest_river_length = elem_area\n",
    "        largest_lake_name = elem_name\n",
    "        largest_lake_country = elem_country\n",
    "    \n",
    "print(largest_lake_name)\n",
    "print(largest_lake_country)"
   ]
  },
  {
   "cell_type": "markdown",
   "metadata": {},
   "source": [
    "Here is the highest elevation airport and the country it is in:"
   ]
  },
  {
   "cell_type": "code",
   "execution_count": 11,
   "metadata": {
    "collapsed": false
   },
   "outputs": [
    {
     "name": "stdout",
     "output_type": "stream",
     "text": [
      "El Alto Intl\n",
      "BOL\n"
     ]
    }
   ],
   "source": [
    "highest_airport_elev = 0\n",
    "highest_airport_name = \"None\"\n",
    "highest_airport_country = \"None\"\n",
    "for element in document.iterfind('airport'):\n",
    "    if element.find(\"elevation\") != None:\n",
    "        if element.find(\"elevation\").text != None:\n",
    "            elem_elev = float(element.find(\"elevation\").text)\n",
    "        else:\n",
    "            elem_elev = 0\n",
    "    elem_name = element.find(\"name\").text\n",
    "    elem_country = element.get(\"country\")\n",
    "    if elem_elev > highest_airport_elev:\n",
    "        highest_airport_elev = elem_elev\n",
    "        highest_airport_name = elem_name\n",
    "        highest_airport_country = elem_country\n",
    "    \n",
    "print(highest_airport_name)\n",
    "print(highest_airport_country)"
   ]
  }
 ],
 "metadata": {
  "kernelspec": {
   "display_name": "Python 3",
   "language": "python",
   "name": "python3"
  },
  "language_info": {
   "codemirror_mode": {
    "name": "ipython",
    "version": 3
   },
   "file_extension": ".py",
   "mimetype": "text/x-python",
   "name": "python",
   "nbconvert_exporter": "python",
   "pygments_lexer": "ipython3",
   "version": "3.6.0"
  }
 },
 "nbformat": 4,
 "nbformat_minor": 0
}
