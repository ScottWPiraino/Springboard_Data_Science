{
 "cells": [
  {
   "cell_type": "code",
   "execution_count": 1,
   "metadata": {
    "collapsed": false
   },
   "outputs": [],
   "source": [
    "import pandas as pd\n",
    "import numpy as np"
   ]
  },
  {
   "cell_type": "markdown",
   "metadata": {},
   "source": [
    "# Generate series of times"
   ]
  },
  {
   "cell_type": "code",
   "execution_count": 2,
   "metadata": {
    "collapsed": false
   },
   "outputs": [
    {
     "data": {
      "text/plain": [
       "DatetimeIndex(['2016-07-15 10:15:00', '2016-07-15 18:15:00',\n",
       "               '2016-07-16 02:15:00', '2016-07-16 10:15:00',\n",
       "               '2016-07-16 18:15:00', '2016-07-17 02:15:00',\n",
       "               '2016-07-17 10:15:00', '2016-07-17 18:15:00',\n",
       "               '2016-07-18 02:15:00', '2016-07-18 10:15:00',\n",
       "               '2016-07-18 18:15:00', '2016-07-19 02:15:00',\n",
       "               '2016-07-19 10:15:00', '2016-07-19 18:15:00',\n",
       "               '2016-07-20 02:15:00', '2016-07-20 10:15:00',\n",
       "               '2016-07-20 18:15:00', '2016-07-21 02:15:00',\n",
       "               '2016-07-21 10:15:00', '2016-07-21 18:15:00',\n",
       "               '2016-07-22 02:15:00', '2016-07-22 10:15:00',\n",
       "               '2016-07-22 18:15:00', '2016-07-23 02:15:00',\n",
       "               '2016-07-23 10:15:00', '2016-07-23 18:15:00',\n",
       "               '2016-07-24 02:15:00', '2016-07-24 10:15:00',\n",
       "               '2016-07-24 18:15:00'],\n",
       "              dtype='datetime64[ns]', freq='8H')"
      ]
     },
     "execution_count": 2,
     "metadata": {},
     "output_type": "execute_result"
    }
   ],
   "source": [
    "# specify with start date & number of periods\n",
    "rng = pd.date_range('2016 Jul 15 10:15', end = '2016 Jul 25', freq = '8H')\n",
    "rng"
   ]
  },
  {
   "cell_type": "markdown",
   "metadata": {
    "collapsed": true
   },
   "source": [
    "### let's explore some of the other options for date_range\n",
    "http://pandas.pydata.org/pandas-docs/stable/generated/pandas.date_range.html\n",
    "\n",
    "In particular, let's take a look at 'normalize' and 'end'"
   ]
  },
  {
   "cell_type": "code",
   "execution_count": 3,
   "metadata": {
    "collapsed": false
   },
   "outputs": [
    {
     "data": {
      "text/plain": [
       "DatetimeIndex(['2016-07-31', '2016-08-31', '2016-09-30', '2016-10-31',\n",
       "               '2016-11-30', '2016-12-31', '2017-01-31', '2017-02-28',\n",
       "               '2017-03-31', '2017-04-30'],\n",
       "              dtype='datetime64[ns]', freq='M')"
      ]
     },
     "execution_count": 3,
     "metadata": {},
     "output_type": "execute_result"
    }
   ],
   "source": [
    "rng = pd.date_range('2016 Jul 15', periods = 10, freq = 'M', normalize = True)\n",
    "rng"
   ]
  },
  {
   "cell_type": "markdown",
   "metadata": {},
   "source": [
    "### Which of these formats DON'T work?\n",
    "'2016 Jul 1', '7/1/2016', '1/7/2016', 'July 1, 2016', '2016-07-01'\n",
    "\n",
    "\n",
    "#### You'll want to try this with pd.to_datetime"
   ]
  },
  {
   "cell_type": "code",
   "execution_count": 4,
   "metadata": {
    "collapsed": false
   },
   "outputs": [
    {
     "data": {
      "text/plain": [
       "Timestamp('2016-01-07 00:00:00')"
      ]
     },
     "execution_count": 4,
     "metadata": {},
     "output_type": "execute_result"
    }
   ],
   "source": [
    "# You may encounter the need to deal with European style formatted dates. \n",
    "# In that case, you'll want to use pd.to_datetime\n",
    "pd.to_datetime('1/7/2016')"
   ]
  },
  {
   "cell_type": "code",
   "execution_count": 5,
   "metadata": {
    "collapsed": false
   },
   "outputs": [
    {
     "data": {
      "text/plain": [
       "Timestamp('2016-07-01 00:00:00')"
      ]
     },
     "execution_count": 5,
     "metadata": {},
     "output_type": "execute_result"
    }
   ],
   "source": [
    "pd.to_datetime('7/1/2016')"
   ]
  },
  {
   "cell_type": "code",
   "execution_count": 6,
   "metadata": {
    "collapsed": true
   },
   "outputs": [],
   "source": [
    "# See the behavior with the following examples. Do you see the pattern?"
   ]
  },
  {
   "cell_type": "code",
   "execution_count": 7,
   "metadata": {
    "collapsed": false
   },
   "outputs": [
    {
     "data": {
      "text/plain": [
       "False"
      ]
     },
     "execution_count": 7,
     "metadata": {},
     "output_type": "execute_result"
    }
   ],
   "source": [
    "pd.to_datetime('01/07/2016', dayfirst = True) == pd.to_datetime('01/07/2016', dayfirst = False)"
   ]
  },
  {
   "cell_type": "code",
   "execution_count": 8,
   "metadata": {
    "collapsed": false
   },
   "outputs": [
    {
     "data": {
      "text/plain": [
       "False"
      ]
     },
     "execution_count": 8,
     "metadata": {},
     "output_type": "execute_result"
    }
   ],
   "source": [
    "pd.to_datetime('01-07-2016', dayfirst = True) == pd.to_datetime('01-07-2016', dayfirst = False)"
   ]
  },
  {
   "cell_type": "code",
   "execution_count": 9,
   "metadata": {
    "collapsed": false
   },
   "outputs": [
    {
     "data": {
      "text/plain": [
       "True"
      ]
     },
     "execution_count": 9,
     "metadata": {},
     "output_type": "execute_result"
    }
   ],
   "source": [
    "pd.to_datetime('2016-01-07', dayfirst = True) == pd.to_datetime('2016-01-07', dayfirst = False)"
   ]
  },
  {
   "cell_type": "markdown",
   "metadata": {},
   "source": [
    "# Timestamps"
   ]
  },
  {
   "cell_type": "code",
   "execution_count": 10,
   "metadata": {
    "collapsed": false
   },
   "outputs": [
    {
     "data": {
      "text/plain": [
       "Timestamp('2016-07-10 00:00:00')"
      ]
     },
     "execution_count": 10,
     "metadata": {},
     "output_type": "execute_result"
    }
   ],
   "source": [
    "# add increasing detail\n",
    "pd.Timestamp('2016-07-10')"
   ]
  },
  {
   "cell_type": "code",
   "execution_count": 11,
   "metadata": {
    "collapsed": false
   },
   "outputs": [
    {
     "data": {
      "text/plain": [
       "Timestamp('2016-07-10 10:15:15')"
      ]
     },
     "execution_count": 11,
     "metadata": {},
     "output_type": "execute_result"
    }
   ],
   "source": [
    "pd.Timestamp('2016-07-10 10:15:15')"
   ]
  },
  {
   "cell_type": "markdown",
   "metadata": {},
   "source": [
    "### How much detail can you add?"
   ]
  },
  {
   "cell_type": "markdown",
   "metadata": {},
   "source": [
    "To nanoseconds"
   ]
  },
  {
   "cell_type": "markdown",
   "metadata": {},
   "source": [
    "### What are some properties of time stamps? \n",
    "Hint: http://pandas.pydata.org/pandas-docs/stable/timeseries.html#time-date-components"
   ]
  },
  {
   "cell_type": "code",
   "execution_count": 12,
   "metadata": {
    "collapsed": true
   },
   "outputs": [],
   "source": [
    "t = pd.Timestamp('2016-07-10 10:15:15')"
   ]
  },
  {
   "cell_type": "code",
   "execution_count": 13,
   "metadata": {
    "collapsed": false
   },
   "outputs": [
    {
     "data": {
      "text/plain": [
       "3"
      ]
     },
     "execution_count": 13,
     "metadata": {},
     "output_type": "execute_result"
    }
   ],
   "source": [
    "t.quarter"
   ]
  },
  {
   "cell_type": "code",
   "execution_count": 14,
   "metadata": {
    "collapsed": false
   },
   "outputs": [
    {
     "data": {
      "text/plain": [
       "Timestamp('2016-07-10 20:00:00')"
      ]
     },
     "execution_count": 14,
     "metadata": {},
     "output_type": "execute_result"
    }
   ],
   "source": [
    "t = pd.Timestamp('2016-07-10 8 pm')\n",
    "t"
   ]
  },
  {
   "cell_type": "markdown",
   "metadata": {},
   "source": [
    "### How are time stamps lacking?"
   ]
  },
  {
   "cell_type": "markdown",
   "metadata": {
    "collapsed": true
   },
   "source": [
    "Time sometimes incorporates ranges"
   ]
  },
  {
   "cell_type": "markdown",
   "metadata": {},
   "source": [
    "# Time offsets"
   ]
  },
  {
   "cell_type": "code",
   "execution_count": 15,
   "metadata": {
    "collapsed": false
   },
   "outputs": [
    {
     "data": {
      "text/plain": [
       "Timedelta('1 days 00:00:00.000001')"
      ]
     },
     "execution_count": 15,
     "metadata": {},
     "output_type": "execute_result"
    }
   ],
   "source": [
    "pd.Timedelta('1 day 1us')"
   ]
  },
  {
   "cell_type": "code",
   "execution_count": 16,
   "metadata": {
    "collapsed": false
   },
   "outputs": [
    {
     "data": {
      "text/plain": [
       "Timestamp('2016-07-01 09:30:00')"
      ]
     },
     "execution_count": 16,
     "metadata": {},
     "output_type": "execute_result"
    }
   ],
   "source": [
    "pd.Timestamp('2016-07-01 8:00') + pd.Timedelta('1.5 hours')"
   ]
  },
  {
   "cell_type": "code",
   "execution_count": 17,
   "metadata": {
    "collapsed": false
   },
   "outputs": [
    {
     "data": {
      "text/plain": [
       "Timedelta('0 days 00:00:00.000001')"
      ]
     },
     "execution_count": 17,
     "metadata": {},
     "output_type": "execute_result"
    }
   ],
   "source": [
    "pd.Timedelta('15ns') #bug? what kind of bug?\n",
    "# issue is with the printing\n",
    "pd.Timedelta('15ns')*100"
   ]
  },
  {
   "cell_type": "code",
   "execution_count": 18,
   "metadata": {
    "collapsed": false
   },
   "outputs": [
    {
     "data": {
      "text/plain": [
       "DatetimeIndex(['2016-08-01', '2016-09-01', '2016-10-01', '2016-11-01',\n",
       "               '2016-12-01', '2017-01-01', '2017-02-01', '2017-03-01',\n",
       "               '2017-04-01', '2017-05-01'],\n",
       "              dtype='datetime64[ns]', freq='MS')"
      ]
     },
     "execution_count": 18,
     "metadata": {},
     "output_type": "execute_result"
    }
   ],
   "source": [
    "rng + pd.Timedelta('1day')"
   ]
  },
  {
   "cell_type": "markdown",
   "metadata": {},
   "source": [
    "# Time spans"
   ]
  },
  {
   "cell_type": "code",
   "execution_count": 19,
   "metadata": {
    "collapsed": false
   },
   "outputs": [
    {
     "data": {
      "text/plain": [
       "True"
      ]
     },
     "execution_count": 19,
     "metadata": {},
     "output_type": "execute_result"
    }
   ],
   "source": [
    "p = pd.Period('7/2016')\n",
    "t = pd.Timestamp('7/21/2016')\n",
    "p.start_time < t and p.end_time > t"
   ]
  },
  {
   "cell_type": "code",
   "execution_count": 20,
   "metadata": {
    "collapsed": false
   },
   "outputs": [
    {
     "data": {
      "text/plain": [
       "PeriodIndex(['2016-01-01 12:00', '2016-01-01 13:00', '2016-01-01 14:00',\n",
       "             '2016-01-01 15:00', '2016-01-01 16:00', '2016-01-01 17:00',\n",
       "             '2016-01-01 18:00', '2016-01-01 19:00', '2016-01-01 20:00',\n",
       "             '2016-01-01 21:00'],\n",
       "            dtype='period[H]', freq='H')"
      ]
     },
     "execution_count": 20,
     "metadata": {},
     "output_type": "execute_result"
    }
   ],
   "source": [
    "rng = pd.period_range('2016-01-01 12:15', freq = 'H', periods = 10)\n",
    "rng"
   ]
  },
  {
   "cell_type": "code",
   "execution_count": 21,
   "metadata": {
    "collapsed": false
   },
   "outputs": [
    {
     "data": {
      "text/plain": [
       "PeriodIndex(['2016-01-01 12:15', '2016-01-01 13:15', '2016-01-01 14:15',\n",
       "             '2016-01-01 15:15', '2016-01-01 16:15', '2016-01-01 17:15',\n",
       "             '2016-01-01 18:15', '2016-01-01 19:15', '2016-01-01 20:15',\n",
       "             '2016-01-01 21:15'],\n",
       "            dtype='period[60T]', freq='60T')"
      ]
     },
     "execution_count": 21,
     "metadata": {},
     "output_type": "execute_result"
    }
   ],
   "source": [
    "rng = pd.period_range('2016-01-01 12:15', freq = '60T', periods = 10)\n",
    "rng"
   ]
  },
  {
   "cell_type": "code",
   "execution_count": 22,
   "metadata": {
    "collapsed": false
   },
   "outputs": [
    {
     "data": {
      "text/plain": [
       "PeriodIndex(['2016-01-01 12:00', '2016-01-01 13:00', '2016-01-01 14:00',\n",
       "             '2016-01-01 15:00', '2016-01-01 16:00', '2016-01-01 17:00',\n",
       "             '2016-01-01 18:00', '2016-01-01 19:00', '2016-01-01 20:00',\n",
       "             '2016-01-01 21:00'],\n",
       "            dtype='period[H]', freq='H')"
      ]
     },
     "execution_count": 22,
     "metadata": {},
     "output_type": "execute_result"
    }
   ],
   "source": [
    "rng = pd.period_range('2016-01-01 12:15', freq = '1H', periods = 10)\n",
    "rng"
   ]
  },
  {
   "cell_type": "markdown",
   "metadata": {},
   "source": [
    "### How can you determine whether a timestamp falls within a given period?"
   ]
  },
  {
   "cell_type": "code",
   "execution_count": 23,
   "metadata": {
    "collapsed": false
   },
   "outputs": [
    {
     "data": {
      "text/plain": [
       "True"
      ]
     },
     "execution_count": 23,
     "metadata": {},
     "output_type": "execute_result"
    }
   ],
   "source": [
    "# %load snippets/startend.py\n",
    "p.start_time < t and p.end_time > t"
   ]
  },
  {
   "cell_type": "markdown",
   "metadata": {},
   "source": [
    "### Try out some other functionality with different offset-aliases. Anything interesting?"
   ]
  },
  {
   "cell_type": "code",
   "execution_count": 24,
   "metadata": {
    "collapsed": false
   },
   "outputs": [
    {
     "data": {
      "text/plain": [
       "PeriodIndex(['2016-01-01', '2016-01-04', '2016-01-05', '2016-01-06',\n",
       "             '2016-01-07', '2016-01-08', '2016-01-11', '2016-01-12',\n",
       "             '2016-01-13', '2016-01-14'],\n",
       "            dtype='period[B]', freq='B')"
      ]
     },
     "execution_count": 24,
     "metadata": {},
     "output_type": "execute_result"
    }
   ],
   "source": [
    "pd.period_range('2016-01-01 12:15', freq = 'B', periods = 10)"
   ]
  },
  {
   "cell_type": "markdown",
   "metadata": {},
   "source": [
    "### How can you make a pandas Time Series with these aliases?"
   ]
  },
  {
   "cell_type": "code",
   "execution_count": 25,
   "metadata": {
    "collapsed": false
   },
   "outputs": [],
   "source": [
    "num_periods = 40\n",
    "ts_pd = pd.Series(range(num_periods), pd.period_range('2016-07-01 11:15', freq = '60T', periods = num_periods))"
   ]
  },
  {
   "cell_type": "code",
   "execution_count": 26,
   "metadata": {
    "collapsed": false
   },
   "outputs": [
    {
     "data": {
      "text/plain": [
       "2016-07-01 11:15    0\n",
       "2016-07-01 12:15    1\n",
       "2016-07-01 13:15    2\n",
       "Freq: 60T, dtype: int64"
      ]
     },
     "execution_count": 26,
     "metadata": {},
     "output_type": "execute_result"
    }
   ],
   "source": [
    "ts_pd['2016-7-1 11':'2016-7-1 13']"
   ]
  },
  {
   "cell_type": "markdown",
   "metadata": {},
   "source": [
    "### How can we index a time series with a date_range?"
   ]
  },
  {
   "cell_type": "code",
   "execution_count": 27,
   "metadata": {
    "collapsed": true
   },
   "outputs": [],
   "source": [
    "num_periods = 40\n",
    "ts_dt = pd.Series(range(num_periods), pd.date_range('2016-07-01 11:15', freq = '60T', periods = num_periods))"
   ]
  },
  {
   "cell_type": "markdown",
   "metadata": {},
   "source": [
    "### What are the use cases for a series with a DateTimeIndex vs a PeriodIndex? Where will we see a difference?"
   ]
  },
  {
   "cell_type": "code",
   "execution_count": 28,
   "metadata": {
    "collapsed": false
   },
   "outputs": [
    {
     "data": {
      "text/plain": [
       "2016-07-01 11:15:00    0\n",
       "Freq: 60T, dtype: int64"
      ]
     },
     "execution_count": 28,
     "metadata": {},
     "output_type": "execute_result"
    }
   ],
   "source": [
    "ts_dt['2016-7-1 11']"
   ]
  },
  {
   "cell_type": "markdown",
   "metadata": {},
   "source": [
    "### How can we convert between a DateTimeIndex and a PeriodIndex?"
   ]
  },
  {
   "cell_type": "code",
   "execution_count": 29,
   "metadata": {
    "collapsed": false
   },
   "outputs": [
    {
     "data": {
      "text/plain": [
       "2016-07-01 11:15:00     0\n",
       "2016-07-01 12:15:00     1\n",
       "2016-07-01 13:15:00     2\n",
       "2016-07-01 14:15:00     3\n",
       "2016-07-01 15:15:00     4\n",
       "2016-07-01 16:15:00     5\n",
       "2016-07-01 17:15:00     6\n",
       "2016-07-01 18:15:00     7\n",
       "2016-07-01 19:15:00     8\n",
       "2016-07-01 20:15:00     9\n",
       "2016-07-01 21:15:00    10\n",
       "2016-07-01 22:15:00    11\n",
       "2016-07-01 23:15:00    12\n",
       "2016-07-02 00:15:00    13\n",
       "2016-07-02 01:15:00    14\n",
       "2016-07-02 02:15:00    15\n",
       "2016-07-02 03:15:00    16\n",
       "2016-07-02 04:15:00    17\n",
       "2016-07-02 05:15:00    18\n",
       "2016-07-02 06:15:00    19\n",
       "2016-07-02 07:15:00    20\n",
       "2016-07-02 08:15:00    21\n",
       "2016-07-02 09:15:00    22\n",
       "2016-07-02 10:15:00    23\n",
       "2016-07-02 11:15:00    24\n",
       "2016-07-02 12:15:00    25\n",
       "2016-07-02 13:15:00    26\n",
       "2016-07-02 14:15:00    27\n",
       "2016-07-02 15:15:00    28\n",
       "2016-07-02 16:15:00    29\n",
       "2016-07-02 17:15:00    30\n",
       "2016-07-02 18:15:00    31\n",
       "2016-07-02 19:15:00    32\n",
       "2016-07-02 20:15:00    33\n",
       "2016-07-02 21:15:00    34\n",
       "2016-07-02 22:15:00    35\n",
       "2016-07-02 23:15:00    36\n",
       "2016-07-03 00:15:00    37\n",
       "2016-07-03 01:15:00    38\n",
       "2016-07-03 02:15:00    39\n",
       "Freq: H, dtype: int64"
      ]
     },
     "execution_count": 29,
     "metadata": {},
     "output_type": "execute_result"
    }
   ],
   "source": [
    "ts_dt.to_period(freq = \"60T\")\n",
    "ts_pd.to_timestamp()"
   ]
  },
  {
   "cell_type": "markdown",
   "metadata": {},
   "source": [
    "# Try\n",
    "\n",
    "(1) How can you create a pd.Timestamp with a European style formatted date string? hint: dayfirst flag\n",
    "\n",
    "(2) How can you generate string representation in a desired format from a pd.Timestamp? "
   ]
  },
  {
   "cell_type": "code",
   "execution_count": 30,
   "metadata": {
    "collapsed": false
   },
   "outputs": [
    {
     "data": {
      "text/plain": [
       "2016-07-01 11:15:00     0\n",
       "2016-07-01 12:15:00     1\n",
       "2016-07-01 13:15:00     2\n",
       "2016-07-01 14:15:00     3\n",
       "2016-07-01 15:15:00     4\n",
       "2016-07-01 16:15:00     5\n",
       "2016-07-01 17:15:00     6\n",
       "2016-07-01 18:15:00     7\n",
       "2016-07-01 19:15:00     8\n",
       "2016-07-01 20:15:00     9\n",
       "2016-07-01 21:15:00    10\n",
       "2016-07-01 22:15:00    11\n",
       "2016-07-01 23:15:00    12\n",
       "2016-07-02 00:15:00    13\n",
       "2016-07-02 01:15:00    14\n",
       "2016-07-02 02:15:00    15\n",
       "2016-07-02 03:15:00    16\n",
       "2016-07-02 04:15:00    17\n",
       "2016-07-02 05:15:00    18\n",
       "2016-07-02 06:15:00    19\n",
       "2016-07-02 07:15:00    20\n",
       "2016-07-02 08:15:00    21\n",
       "2016-07-02 09:15:00    22\n",
       "2016-07-02 10:15:00    23\n",
       "2016-07-02 11:15:00    24\n",
       "2016-07-02 12:15:00    25\n",
       "2016-07-02 13:15:00    26\n",
       "2016-07-02 14:15:00    27\n",
       "2016-07-02 15:15:00    28\n",
       "2016-07-02 16:15:00    29\n",
       "2016-07-02 17:15:00    30\n",
       "2016-07-02 18:15:00    31\n",
       "2016-07-02 19:15:00    32\n",
       "2016-07-02 20:15:00    33\n",
       "2016-07-02 21:15:00    34\n",
       "2016-07-02 22:15:00    35\n",
       "2016-07-02 23:15:00    36\n",
       "2016-07-03 00:15:00    37\n",
       "2016-07-03 01:15:00    38\n",
       "2016-07-03 02:15:00    39\n",
       "Freq: H, dtype: int64"
      ]
     },
     "execution_count": 30,
     "metadata": {},
     "output_type": "execute_result"
    }
   ],
   "source": [
    "# %load snippets/try1.py\n",
    "ts_pd_2 = pd.Series(range(num_periods), pd.period_range(pd.to_datetime('01-07-2016 11:15', dayfirst = True), freq = '60T', periods = num_periods))\n",
    "ts_pd_2.to_timestamp()"
   ]
  },
  {
   "cell_type": "code",
   "execution_count": 31,
   "metadata": {
    "collapsed": false
   },
   "outputs": [
    {
     "data": {
      "text/plain": [
       "'2017-05-06'"
      ]
     },
     "execution_count": 31,
     "metadata": {},
     "output_type": "execute_result"
    }
   ],
   "source": [
    "pd.to_datetime(\"05/06/2017\").strftime('%Y-%m-%d')"
   ]
  },
  {
   "cell_type": "code",
   "execution_count": null,
   "metadata": {
    "collapsed": true
   },
   "outputs": [],
   "source": []
  }
 ],
 "metadata": {
  "kernelspec": {
   "display_name": "Python 3",
   "language": "python",
   "name": "python3"
  },
  "language_info": {
   "codemirror_mode": {
    "name": "ipython",
    "version": 3
   },
   "file_extension": ".py",
   "mimetype": "text/x-python",
   "name": "python",
   "nbconvert_exporter": "python",
   "pygments_lexer": "ipython3",
   "version": "3.6.0"
  }
 },
 "nbformat": 4,
 "nbformat_minor": 0
}
