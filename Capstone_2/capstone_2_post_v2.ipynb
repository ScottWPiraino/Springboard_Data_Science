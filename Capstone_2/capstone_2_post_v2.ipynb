{
 "cells": [
  {
   "cell_type": "markdown",
   "metadata": {},
   "source": [
    "## Time series prediction"
   ]
  },
  {
   "cell_type": "markdown",
   "metadata": {},
   "source": [
    "For my second capstone, I chose to work on the [Kaggle web traffic time series forcasting competition](https://www.kaggle.com/c/web-traffic-time-series-forecasting). The competition goal is to use data on the number of visits to approximately 145,000 Wikipedia articles to predict the number of visits those same articles will recieve over the next two months. Clients potentially interested in prediction methods for this problem include web-based companies or advertisers that want to predict future visits for planning purposes. Time series prediction could also have important applications in many other domains, so methods that perform well in this problem may be interesting to a broad client base."
   ]
  },
  {
   "cell_type": "markdown",
   "metadata": {},
   "source": [
    "To predict future wikipedia visits, I use time series of visits for previous days for each series that I wish to predict on:"
   ]
  },
  {
   "cell_type": "code",
   "execution_count": 1,
   "metadata": {},
   "outputs": [
    {
     "data": {
      "text/html": [
       "<div>\n",
       "<style>\n",
       "    .dataframe thead tr:only-child th {\n",
       "        text-align: right;\n",
       "    }\n",
       "\n",
       "    .dataframe thead th {\n",
       "        text-align: left;\n",
       "    }\n",
       "\n",
       "    .dataframe tbody tr th {\n",
       "        vertical-align: top;\n",
       "    }\n",
       "</style>\n",
       "<table border=\"1\" class=\"dataframe\">\n",
       "  <thead>\n",
       "    <tr style=\"text-align: right;\">\n",
       "      <th></th>\n",
       "      <th>2017-07-01</th>\n",
       "      <th>2017-07-02</th>\n",
       "      <th>2017-07-03</th>\n",
       "      <th>2017-07-04</th>\n",
       "      <th>2017-07-05</th>\n",
       "      <th>2017-07-06</th>\n",
       "      <th>2017-07-07</th>\n",
       "      <th>2017-07-08</th>\n",
       "      <th>2017-07-09</th>\n",
       "      <th>2017-07-10</th>\n",
       "      <th>Page</th>\n",
       "    </tr>\n",
       "  </thead>\n",
       "  <tbody>\n",
       "    <tr>\n",
       "      <th>0</th>\n",
       "      <td>23.0</td>\n",
       "      <td>24.0</td>\n",
       "      <td>26.0</td>\n",
       "      <td>15.0</td>\n",
       "      <td>14.0</td>\n",
       "      <td>15.0</td>\n",
       "      <td>19.0</td>\n",
       "      <td>29.0</td>\n",
       "      <td>22.0</td>\n",
       "      <td>25.0</td>\n",
       "      <td>2NE1_zh.wikipedia.org_all-access_spider</td>\n",
       "    </tr>\n",
       "    <tr>\n",
       "      <th>1</th>\n",
       "      <td>15.0</td>\n",
       "      <td>26.0</td>\n",
       "      <td>16.0</td>\n",
       "      <td>23.0</td>\n",
       "      <td>19.0</td>\n",
       "      <td>16.0</td>\n",
       "      <td>816.0</td>\n",
       "      <td>20.0</td>\n",
       "      <td>76.0</td>\n",
       "      <td>24.0</td>\n",
       "      <td>2PM_zh.wikipedia.org_all-access_spider</td>\n",
       "    </tr>\n",
       "    <tr>\n",
       "      <th>2</th>\n",
       "      <td>1.0</td>\n",
       "      <td>1.0</td>\n",
       "      <td>7.0</td>\n",
       "      <td>1.0</td>\n",
       "      <td>1.0</td>\n",
       "      <td>1.0</td>\n",
       "      <td>10.0</td>\n",
       "      <td>1.0</td>\n",
       "      <td>2.0</td>\n",
       "      <td>6.0</td>\n",
       "      <td>3C_zh.wikipedia.org_all-access_spider</td>\n",
       "    </tr>\n",
       "    <tr>\n",
       "      <th>3</th>\n",
       "      <td>7.0</td>\n",
       "      <td>19.0</td>\n",
       "      <td>16.0</td>\n",
       "      <td>10.0</td>\n",
       "      <td>17.0</td>\n",
       "      <td>15.0</td>\n",
       "      <td>22.0</td>\n",
       "      <td>6.0</td>\n",
       "      <td>6.0</td>\n",
       "      <td>18.0</td>\n",
       "      <td>4minute_zh.wikipedia.org_all-access_spider</td>\n",
       "    </tr>\n",
       "    <tr>\n",
       "      <th>4</th>\n",
       "      <td>12.0</td>\n",
       "      <td>16.0</td>\n",
       "      <td>6.0</td>\n",
       "      <td>16.0</td>\n",
       "      <td>18.0</td>\n",
       "      <td>12.0</td>\n",
       "      <td>14.0</td>\n",
       "      <td>11.0</td>\n",
       "      <td>16.0</td>\n",
       "      <td>15.0</td>\n",
       "      <td>52_Hz_I_Love_You_zh.wikipedia.org_all-access_s...</td>\n",
       "    </tr>\n",
       "  </tbody>\n",
       "</table>\n",
       "</div>"
      ],
      "text/plain": [
       "   2017-07-01  2017-07-02  2017-07-03  2017-07-04  2017-07-05  2017-07-06  \\\n",
       "0        23.0        24.0        26.0        15.0        14.0        15.0   \n",
       "1        15.0        26.0        16.0        23.0        19.0        16.0   \n",
       "2         1.0         1.0         7.0         1.0         1.0         1.0   \n",
       "3         7.0        19.0        16.0        10.0        17.0        15.0   \n",
       "4        12.0        16.0         6.0        16.0        18.0        12.0   \n",
       "\n",
       "   2017-07-07  2017-07-08  2017-07-09  2017-07-10  \\\n",
       "0        19.0        29.0        22.0        25.0   \n",
       "1       816.0        20.0        76.0        24.0   \n",
       "2        10.0         1.0         2.0         6.0   \n",
       "3        22.0         6.0         6.0        18.0   \n",
       "4        14.0        11.0        16.0        15.0   \n",
       "\n",
       "                                                Page  \n",
       "0            2NE1_zh.wikipedia.org_all-access_spider  \n",
       "1             2PM_zh.wikipedia.org_all-access_spider  \n",
       "2              3C_zh.wikipedia.org_all-access_spider  \n",
       "3         4minute_zh.wikipedia.org_all-access_spider  \n",
       "4  52_Hz_I_Love_You_zh.wikipedia.org_all-access_s...  "
      ]
     },
     "execution_count": 1,
     "metadata": {},
     "output_type": "execute_result"
    }
   ],
   "source": [
    "import pandas as pd\n",
    "import numpy as np\n",
    "import matplotlib.pyplot as plt\n",
    "from scipy.optimize import minimize\n",
    "%matplotlib inline\n",
    "\n",
    "time_train_full = pd.read_csv(\"train_2_final.csv\")\n",
    "time_test = time_train_full.iloc[:, -62:].assign(Page = time_train_full.loc[:, \"Page\"])\n",
    "time_train = time_train_full.iloc[:, -72:-62].assign(Page = time_train_full.loc[:, \"Page\"])\n",
    "time_train.head()"
   ]
  },
  {
   "cell_type": "markdown",
   "metadata": {},
   "source": [
    "While exploring methods the predict future values of each time series, I came to realize that a very simple method, taking the median of each time series over a window of recent values, can acutally perform quite well, and possible could be a useful feature for prediction. Here I plot the log median values in a ten day window against the observed log visits for the next 62 days:"
   ]
  },
  {
   "cell_type": "markdown",
   "metadata": {},
   "source": [
    "### TODO:\n",
    "\n",
    "It's usually better to chose window widths that are multiples of a cycle/seasonality that you know exists in the system you are modeling: 1 hour, 1 day, 7/14/21/28 days, 30 days, 365 days, etc.  \n",
    "\n",
    "* try 7 and 14 day windows instead of 10"
   ]
  },
  {
   "cell_type": "code",
   "execution_count": 2,
   "metadata": {},
   "outputs": [
    {
     "name": "stderr",
     "output_type": "stream",
     "text": [
      "/Users/scottpiraino/anaconda/lib/python3.6/site-packages/ipykernel/__main__.py:6: SettingWithCopyWarning: \n",
      "A value is trying to be set on a copy of a slice from a DataFrame\n",
      "\n",
      "See the caveats in the documentation: http://pandas.pydata.org/pandas-docs/stable/indexing.html#indexing-view-versus-copy\n",
      "/Users/scottpiraino/anaconda/lib/python3.6/site-packages/ipykernel/__main__.py:9: SettingWithCopyWarning: \n",
      "A value is trying to be set on a copy of a slice from a DataFrame\n",
      "\n",
      "See the caveats in the documentation: http://pandas.pydata.org/pandas-docs/stable/indexing.html#indexing-view-versus-copy\n"
     ]
    },
    {
     "data": {
      "text/plain": [
       "<matplotlib.collections.PathCollection at 0x1173d3748>"
      ]
     },
     "execution_count": 2,
     "metadata": {},
     "output_type": "execute_result"
    },
    {
     "data": {
      "image/png": "[encoded data removed]",
      "text/plain": [
       "<matplotlib.figure.Figure at 0x10970bb38>"
      ]
     },
     "metadata": {},
     "output_type": "display_data"
    }
   ],
   "source": [
    "time_train_median = time_train.median(axis = 1, skipna = True).fillna(0)\n",
    "time_test_melt = pd.melt(time_test, id_vars = [\"Page\"])\n",
    "time_train_median_frame = time_train.loc[:, \"Page\"].to_frame(name = \"Page\").assign(page_median = time_train_median)\n",
    "time_test_melt_join = time_test_melt.merge(time_train_median_frame, on = \"Page\", how = \"left\")\n",
    "page_median_log = time_test_melt_join.loc[:, \"page_median\"]\n",
    "page_median_log[page_median_log == 0] = 1\n",
    "page_median_log = np.log(page_median_log.values)\n",
    "page_observed_log = time_test_melt_join.loc[:, \"value\"]\n",
    "page_observed_log[page_observed_log == 0] = 1\n",
    "page_observed_log = np.log(page_observed_log.values)\n",
    "plt.scatter(page_median_log, page_observed_log)"
   ]
  },
  {
   "cell_type": "markdown",
   "metadata": {},
   "source": [
    "The median is highly correlated with the future values of its associated time series, suggesting that it may be a useful feature for prediction."
   ]
  },
  {
   "cell_type": "markdown",
   "metadata": {},
   "source": [
    "### TODO:\n",
    "\n",
    "It looks like to me the amount of correlation increases with site visits.  \n",
    "Below 5 site visits, the correlation coefficient may not be that high.   \n",
    "Use stats to describe how correlated is \"very\" correlated.  \n",
    "This will give you a feel for magnitudes of correlation, build your feature engineering intution.  \n",
    "\n",
    "* log loss of prediction accuracy  \n",
    "* Pierson R^2 linear corelation coefficient  \n",
    "* divide your data into cohorts (> 5 visits vs < 5 site visits) and calculate .corr() to see if you can use that to decide when median visits is most valuable/correlated  "
   ]
  },
  {
   "cell_type": "markdown",
   "metadata": {
    "collapsed": true
   },
   "source": [
    "In addition to looking at the median as a possible feature, I also used the time series prediction software prophet to make predictions for future values of each time series (see code for prophet prediction [here](https://github.com/ScottWPiraino/Springboard_Data_Science/blob/master/Capstone_2/kaggle_time_series_prophet_all_series.ipynb). I now load those predictions:"
   ]
  },
  {
   "cell_type": "code",
   "execution_count": 3,
   "metadata": {},
   "outputs": [
    {
     "data": {
      "text/html": [
       "<div>\n",
       "<style>\n",
       "    .dataframe thead tr:only-child th {\n",
       "        text-align: right;\n",
       "    }\n",
       "\n",
       "    .dataframe thead th {\n",
       "        text-align: left;\n",
       "    }\n",
       "\n",
       "    .dataframe tbody tr th {\n",
       "        vertical-align: top;\n",
       "    }\n",
       "</style>\n",
       "<table border=\"1\" class=\"dataframe\">\n",
       "  <thead>\n",
       "    <tr style=\"text-align: right;\">\n",
       "      <th></th>\n",
       "      <th>ds</th>\n",
       "      <th>yhat</th>\n",
       "      <th>series_name</th>\n",
       "      <th>observed_y</th>\n",
       "      <th>y_median</th>\n",
       "    </tr>\n",
       "  </thead>\n",
       "  <tbody>\n",
       "    <tr>\n",
       "      <th>0</th>\n",
       "      <td>2017-05-10</td>\n",
       "      <td>27.838235</td>\n",
       "      <td>2NE1_zh.wikipedia.org_all-access_spider</td>\n",
       "      <td>16.0</td>\n",
       "      <td>21.5</td>\n",
       "    </tr>\n",
       "    <tr>\n",
       "      <th>1</th>\n",
       "      <td>2017-05-11</td>\n",
       "      <td>25.479508</td>\n",
       "      <td>2NE1_zh.wikipedia.org_all-access_spider</td>\n",
       "      <td>22.0</td>\n",
       "      <td>21.5</td>\n",
       "    </tr>\n",
       "    <tr>\n",
       "      <th>2</th>\n",
       "      <td>2017-05-12</td>\n",
       "      <td>27.605868</td>\n",
       "      <td>2NE1_zh.wikipedia.org_all-access_spider</td>\n",
       "      <td>22.0</td>\n",
       "      <td>21.5</td>\n",
       "    </tr>\n",
       "    <tr>\n",
       "      <th>3</th>\n",
       "      <td>2017-05-13</td>\n",
       "      <td>28.031390</td>\n",
       "      <td>2NE1_zh.wikipedia.org_all-access_spider</td>\n",
       "      <td>23.0</td>\n",
       "      <td>21.5</td>\n",
       "    </tr>\n",
       "    <tr>\n",
       "      <th>4</th>\n",
       "      <td>2017-05-14</td>\n",
       "      <td>27.714642</td>\n",
       "      <td>2NE1_zh.wikipedia.org_all-access_spider</td>\n",
       "      <td>21.0</td>\n",
       "      <td>21.5</td>\n",
       "    </tr>\n",
       "  </tbody>\n",
       "</table>\n",
       "</div>"
      ],
      "text/plain": [
       "           ds       yhat                              series_name  observed_y  \\\n",
       "0  2017-05-10  27.838235  2NE1_zh.wikipedia.org_all-access_spider        16.0   \n",
       "1  2017-05-11  25.479508  2NE1_zh.wikipedia.org_all-access_spider        22.0   \n",
       "2  2017-05-12  27.605868  2NE1_zh.wikipedia.org_all-access_spider        22.0   \n",
       "3  2017-05-13  28.031390  2NE1_zh.wikipedia.org_all-access_spider        23.0   \n",
       "4  2017-05-14  27.714642  2NE1_zh.wikipedia.org_all-access_spider        21.0   \n",
       "\n",
       "   y_median  \n",
       "0      21.5  \n",
       "1      21.5  \n",
       "2      21.5  \n",
       "3      21.5  \n",
       "4      21.5  "
      ]
     },
     "execution_count": 3,
     "metadata": {},
     "output_type": "execute_result"
    }
   ],
   "source": [
    "prophet_final = pd.read_csv(\"kaggle_time_train_prophet_results_all_series_train.csv\").dropna()\n",
    "prophet_final.loc[prophet_final[\"yhat\"] < 0, \"yhat\"] = 0\n",
    "prophet_final.head()"
   ]
  },
  {
   "cell_type": "markdown",
   "metadata": {},
   "source": [
    "This dataframe contains prophet forcasts and medians of previous 30 days for the last 124th through 62nd days of each time series. Since the task of the Kaggle competition is to predict the number of visits for the 62 days post submission, I use the data above to test the performance of the median and prophet predictions on held-out days that span the same time span post prediction (62 days), while leaving another 62 day interval at the end of the series for any subsequent validation. Below I plot scatter plots of the prophet predictions and median against the observed number of visits:"
   ]
  },
  {
   "cell_type": "code",
   "execution_count": 4,
   "metadata": {},
   "outputs": [
    {
     "data": {
      "text/plain": [
       "<matplotlib.collections.PathCollection at 0x113d7d1d0>"
      ]
     },
     "execution_count": 4,
     "metadata": {},
     "output_type": "execute_result"
    },
    {
     "data": {
      "image/png": "[encoded data removed]",
      "text/plain": [
       "<matplotlib.figure.Figure at 0x10a663be0>"
      ]
     },
     "metadata": {},
     "output_type": "display_data"
    }
   ],
   "source": [
    "plt.scatter(np.log(prophet_final[\"yhat\"] + 1), np.log(prophet_final[\"observed_y\"] + 1))"
   ]
  },
  {
   "cell_type": "code",
   "execution_count": 5,
   "metadata": {},
   "outputs": [
    {
     "data": {
      "text/plain": [
       "<matplotlib.collections.PathCollection at 0x11401e898>"
      ]
     },
     "execution_count": 5,
     "metadata": {},
     "output_type": "execute_result"
    },
    {
     "data": {
      "image/png": "[encoded data removed]",
      "text/plain": [
       "<matplotlib.figure.Figure at 0x113643c88>"
      ]
     },
     "metadata": {},
     "output_type": "display_data"
    }
   ],
   "source": [
    "plt.scatter(np.log(prophet_final[\"y_median\"] + 1), np.log(prophet_final[\"observed_y\"] + 1))"
   ]
  },
  {
   "cell_type": "code",
   "execution_count": 6,
   "metadata": {},
   "outputs": [
    {
     "data": {
      "text/plain": [
       "<matplotlib.collections.PathCollection at 0x114113f98>"
      ]
     },
     "execution_count": 6,
     "metadata": {},
     "output_type": "execute_result"
    },
    {
     "data": {
      "image/png": "[encoded data removed]",
      "text/plain": [
       "<matplotlib.figure.Figure at 0x1140479b0>"
      ]
     },
     "metadata": {},
     "output_type": "display_data"
    }
   ],
   "source": [
    "plt.scatter(np.log(prophet_final[\"yhat\"] + 1), np.log(prophet_final[\"y_median\"] + 1))"
   ]
  },
  {
   "cell_type": "markdown",
   "metadata": {
    "collapsed": true
   },
   "source": [
    "The median feature and prophet predictions are both positively associated **[TODO: correlated]** with the observed visit counts, as well as positively associated **[TODO: correlated]** with each other. This suggests that both could be useful features for prediction. To evaluate to what extent this is the case and also to acheive a more strongly predictive model for the objective loss function used for the competition, I fit a linear model with both the median and prophet predictions as features (plus an intercept term). I also implement a fitting procedure that uses a custom loss function, which is used for evaluation during the competition. I fit the linear model with both features and look at the resulting coefficients: "
   ]
  },
  {
   "cell_type": "code",
   "execution_count": 7,
   "metadata": {
    "collapsed": true
   },
   "outputs": [],
   "source": [
    "def time_predict(weights):\n",
    "    lin_predictor = weights[0] * prophet_final[\"yhat\"].values + weights[1] * prophet_final[\"y_median\"].values + weights[2]\n",
    "    time_prediction = np.rint(lin_predictor)\n",
    "    return(time_prediction)\n",
    "\n",
    "# SMAPE score. Adapts code from https://www.kaggle.com/cpmpml/smape-weirdness\n",
    "def smape_loss(weights):\n",
    "    y_pred = time_predict(weights)\n",
    "    y_true = prophet_final[\"observed_y\"].values\n",
    "    denominator = (np.abs(y_true) + np.abs(y_pred)) / 200.0\n",
    "    diff = np.abs(y_true - y_pred) / denominator\n",
    "    diff[denominator == 0] = 0.0\n",
    "    return(np.nanmean(diff))"
   ]
  },
  {
   "cell_type": "code",
   "execution_count": 8,
   "metadata": {},
   "outputs": [
    {
     "name": "stderr",
     "output_type": "stream",
     "text": [
      "/Users/scottpiraino/anaconda/lib/python3.6/site-packages/ipykernel/__main__.py:11: RuntimeWarning: invalid value encountered in true_divide\n"
     ]
    },
    {
     "data": {
      "text/plain": [
       "array([  7.34226519e-07,   8.99672322e-01,   1.36200020e-03])"
      ]
     },
     "execution_count": 8,
     "metadata": {},
     "output_type": "execute_result"
    }
   ],
   "source": [
    "res_lin = minimize(smape_loss, np.array([1.0, 1.0, 0.0]), method = \"Nelder-Mead\", tol=1e-6)\n",
    "res_lin[\"x\"]"
   ]
  },
  {
   "cell_type": "markdown",
   "metadata": {},
   "source": [
    "The first coefficient is for the prophet predictions, the second for the median feature, and the last is an intercept. The coefficient for the median is positive, suggesting that a higher median number of visists in previous days is predictive of higher visits in subsequent days. The coefficient for the prophet prediction is positive, but much smaller than the coefficient for the median. Both of the two feature are on roughly the same scales, so a smaller coefficient for the prophet predictions suggest that they play much less of a role in  this model than the median feature. This is perhaps surprising, but from looking at discussions on the Kaggle forums, many teams competing in this competition found that models that use the median or slight variations are some of the highest performing models. It is worth mentioning that this result isn't solely because the prophet predictions are uninformative, as fitting this linear model with only that feature shows:"
   ]
  },
  {
   "cell_type": "markdown",
   "metadata": {},
   "source": [
    "### TODO\n",
    "\n",
    "Think about this a bit more.  \n",
    "\n",
    "* the prophet coefficient is virtually 0, meaning you could eliminate it and your forecasts wouldn't change\n",
    "* since the prophet forecast coeficient is zero might that suggest that the prophet forecast is virtually all \"median\" (calculated internally)\n",
    "\n",
    "You may have reverse engineered the prophet model for this particular case\n"
   ]
  },
  {
   "cell_type": "code",
   "execution_count": 9,
   "metadata": {},
   "outputs": [],
   "source": [
    "def time_predict(weights):\n",
    "    lin_predictor = weights[0] * prophet_final[\"yhat\"].values  + weights[1]\n",
    "    time_prediction = np.rint(lin_predictor)\n",
    "    return(time_prediction)\n",
    "\n",
    "# SMAPE score. Adapts code from https://www.kaggle.com/cpmpml/smape-weirdness\n",
    "def smape_loss(weights):\n",
    "    y_pred = time_predict(weights)\n",
    "    y_true = prophet_final[\"observed_y\"].values\n",
    "    denominator = (np.abs(y_true) + np.abs(y_pred)) / 200.0\n",
    "    diff = np.abs(y_true - y_pred) / denominator\n",
    "    diff[denominator == 0] = 0.0\n",
    "    return(np.nanmean(diff))"
   ]
  },
  {
   "cell_type": "code",
   "execution_count": 10,
   "metadata": {},
   "outputs": [
    {
     "name": "stderr",
     "output_type": "stream",
     "text": [
      "/Users/scottpiraino/anaconda/lib/python3.6/site-packages/ipykernel/__main__.py:11: RuntimeWarning: invalid value encountered in true_divide\n"
     ]
    },
    {
     "data": {
      "text/plain": [
       "array([ 0.8031113 ,  0.00105347])"
      ]
     },
     "execution_count": 10,
     "metadata": {},
     "output_type": "execute_result"
    }
   ],
   "source": [
    "res_lin_2 = minimize(smape_loss, np.array([1.0, 0.0]), method = \"Nelder-Mead\", tol=1e-6)\n",
    "res_lin_2[\"x\"]"
   ]
  },
  {
   "cell_type": "markdown",
   "metadata": {},
   "source": [
    "This suggests that the prophet predictions and median may carry much of the same information, and in the linear model with both included, the prophet predictions may serve more as a refinement to the predictions, while the median term has the largest impact."
   ]
  }
 ],
 "metadata": {
  "kernelspec": {
   "display_name": "Python 3",
   "language": "python",
   "name": "python3"
  },
  "language_info": {
   "codemirror_mode": {
    "name": "ipython",
    "version": 3
   },
   "file_extension": ".py",
   "mimetype": "text/x-python",
   "name": "python",
   "nbconvert_exporter": "python",
   "pygments_lexer": "ipython3",
   "version": "3.5.3"
  }
 },
 "nbformat": 4,
 "nbformat_minor": 2
}
