{
 "cells": [
  {
   "cell_type": "markdown",
   "metadata": {},
   "source": [
    "## Time series prediction"
   ]
  },
  {
   "cell_type": "markdown",
   "metadata": {},
   "source": [
    "For my second capstone, I chose to work on the [Kaggle web traffic time series forcasting competition](https://www.kaggle.com/c/web-traffic-time-series-forecasting). The competition goal is to use data on the number of visits to approximately 145,000 Wikipedia articles to predict the number of visits those same articles will recieve over the next two months. Clients potentially interested in prediction methods for this problem include web-based companies or advertisers that want to predict future visits for planning purposes. Time series prediction could also have important applications in many other domains, so methods that perform well in this problem may be interesting to a broad client base."
   ]
  },
  {
   "cell_type": "markdown",
   "metadata": {},
   "source": [
    "The predict future wikipedia visits, I use time series of visits for previous days for each series that I wish to predict on:"
   ]
  },
  {
   "cell_type": "code",
   "execution_count": 1,
   "metadata": {
    "collapsed": false
   },
   "outputs": [
    {
     "data": {
      "text/html": [
       "<div>\n",
       "<style>\n",
       "    .dataframe thead tr:only-child th {\n",
       "        text-align: right;\n",
       "    }\n",
       "\n",
       "    .dataframe thead th {\n",
       "        text-align: left;\n",
       "    }\n",
       "\n",
       "    .dataframe tbody tr th {\n",
       "        vertical-align: top;\n",
       "    }\n",
       "</style>\n",
       "<table border=\"1\" class=\"dataframe\">\n",
       "  <thead>\n",
       "    <tr style=\"text-align: right;\">\n",
       "      <th></th>\n",
       "      <th>2017-07-01</th>\n",
       "      <th>2017-07-02</th>\n",
       "      <th>2017-07-03</th>\n",
       "      <th>2017-07-04</th>\n",
       "      <th>2017-07-05</th>\n",
       "      <th>2017-07-06</th>\n",
       "      <th>2017-07-07</th>\n",
       "      <th>2017-07-08</th>\n",
       "      <th>2017-07-09</th>\n",
       "      <th>2017-07-10</th>\n",
       "      <th>Page</th>\n",
       "    </tr>\n",
       "  </thead>\n",
       "  <tbody>\n",
       "    <tr>\n",
       "      <th>0</th>\n",
       "      <td>23.0</td>\n",
       "      <td>24.0</td>\n",
       "      <td>26.0</td>\n",
       "      <td>15.0</td>\n",
       "      <td>14.0</td>\n",
       "      <td>15.0</td>\n",
       "      <td>19.0</td>\n",
       "      <td>29.0</td>\n",
       "      <td>22.0</td>\n",
       "      <td>25.0</td>\n",
       "      <td>2NE1_zh.wikipedia.org_all-access_spider</td>\n",
       "    </tr>\n",
       "    <tr>\n",
       "      <th>1</th>\n",
       "      <td>15.0</td>\n",
       "      <td>26.0</td>\n",
       "      <td>16.0</td>\n",
       "      <td>23.0</td>\n",
       "      <td>19.0</td>\n",
       "      <td>16.0</td>\n",
       "      <td>816.0</td>\n",
       "      <td>20.0</td>\n",
       "      <td>76.0</td>\n",
       "      <td>24.0</td>\n",
       "      <td>2PM_zh.wikipedia.org_all-access_spider</td>\n",
       "    </tr>\n",
       "    <tr>\n",
       "      <th>2</th>\n",
       "      <td>1.0</td>\n",
       "      <td>1.0</td>\n",
       "      <td>7.0</td>\n",
       "      <td>1.0</td>\n",
       "      <td>1.0</td>\n",
       "      <td>1.0</td>\n",
       "      <td>10.0</td>\n",
       "      <td>1.0</td>\n",
       "      <td>2.0</td>\n",
       "      <td>6.0</td>\n",
       "      <td>3C_zh.wikipedia.org_all-access_spider</td>\n",
       "    </tr>\n",
       "    <tr>\n",
       "      <th>3</th>\n",
       "      <td>7.0</td>\n",
       "      <td>19.0</td>\n",
       "      <td>16.0</td>\n",
       "      <td>10.0</td>\n",
       "      <td>17.0</td>\n",
       "      <td>15.0</td>\n",
       "      <td>22.0</td>\n",
       "      <td>6.0</td>\n",
       "      <td>6.0</td>\n",
       "      <td>18.0</td>\n",
       "      <td>4minute_zh.wikipedia.org_all-access_spider</td>\n",
       "    </tr>\n",
       "    <tr>\n",
       "      <th>4</th>\n",
       "      <td>12.0</td>\n",
       "      <td>16.0</td>\n",
       "      <td>6.0</td>\n",
       "      <td>16.0</td>\n",
       "      <td>18.0</td>\n",
       "      <td>12.0</td>\n",
       "      <td>14.0</td>\n",
       "      <td>11.0</td>\n",
       "      <td>16.0</td>\n",
       "      <td>15.0</td>\n",
       "      <td>52_Hz_I_Love_You_zh.wikipedia.org_all-access_s...</td>\n",
       "    </tr>\n",
       "  </tbody>\n",
       "</table>\n",
       "</div>"
      ],
      "text/plain": [
       "   2017-07-01  2017-07-02  2017-07-03  2017-07-04  2017-07-05  2017-07-06  \\\n",
       "0        23.0        24.0        26.0        15.0        14.0        15.0   \n",
       "1        15.0        26.0        16.0        23.0        19.0        16.0   \n",
       "2         1.0         1.0         7.0         1.0         1.0         1.0   \n",
       "3         7.0        19.0        16.0        10.0        17.0        15.0   \n",
       "4        12.0        16.0         6.0        16.0        18.0        12.0   \n",
       "\n",
       "   2017-07-07  2017-07-08  2017-07-09  2017-07-10  \\\n",
       "0        19.0        29.0        22.0        25.0   \n",
       "1       816.0        20.0        76.0        24.0   \n",
       "2        10.0         1.0         2.0         6.0   \n",
       "3        22.0         6.0         6.0        18.0   \n",
       "4        14.0        11.0        16.0        15.0   \n",
       "\n",
       "                                                Page  \n",
       "0            2NE1_zh.wikipedia.org_all-access_spider  \n",
       "1             2PM_zh.wikipedia.org_all-access_spider  \n",
       "2              3C_zh.wikipedia.org_all-access_spider  \n",
       "3         4minute_zh.wikipedia.org_all-access_spider  \n",
       "4  52_Hz_I_Love_You_zh.wikipedia.org_all-access_s...  "
      ]
     },
     "execution_count": 1,
     "metadata": {},
     "output_type": "execute_result"
    }
   ],
   "source": [
    "import pandas as pd\n",
    "import numpy as np\n",
    "import matplotlib.pyplot as plt\n",
    "%matplotlib inline\n",
    "\n",
    "time_train_full = pd.read_csv(\"train_2_final.csv\")\n",
    "time_test = time_train_full.iloc[:, -62:].assign(Page = time_train_full.loc[:, \"Page\"])\n",
    "time_train = time_train_full.iloc[:, -72:-62].assign(Page = time_train_full.loc[:, \"Page\"])\n",
    "time_train.head()"
   ]
  },
  {
   "cell_type": "markdown",
   "metadata": {},
   "source": [
    "While exploring methods the predict future values of each time series, I came to realize that a very simple method, taking the median of each time series over a window of recent values, can acutally perform quite well, and possible could be a useful feature for prediction. Here I plot the log median values in a ten day window against the observed log visits for the next 60 days:"
   ]
  },
  {
   "cell_type": "code",
   "execution_count": 2,
   "metadata": {
    "collapsed": false
   },
   "outputs": [
    {
     "name": "stderr",
     "output_type": "stream",
     "text": [
      "/Users/scottpiraino/anaconda/lib/python3.6/site-packages/ipykernel/__main__.py:6: SettingWithCopyWarning: \n",
      "A value is trying to be set on a copy of a slice from a DataFrame\n",
      "\n",
      "See the caveats in the documentation: http://pandas.pydata.org/pandas-docs/stable/indexing.html#indexing-view-versus-copy\n",
      "/Users/scottpiraino/anaconda/lib/python3.6/site-packages/ipykernel/__main__.py:9: SettingWithCopyWarning: \n",
      "A value is trying to be set on a copy of a slice from a DataFrame\n",
      "\n",
      "See the caveats in the documentation: http://pandas.pydata.org/pandas-docs/stable/indexing.html#indexing-view-versus-copy\n"
     ]
    },
    {
     "data": {
      "text/plain": [
       "<matplotlib.collections.PathCollection at 0x11cdf0a20>"
      ]
     },
     "execution_count": 2,
     "metadata": {},
     "output_type": "execute_result"
    },
    {
     "data": {
      "image/png": "[encoded data removed]",
      "text/plain": [
       "<matplotlib.figure.Figure at 0x110048be0>"
      ]
     },
     "metadata": {},
     "output_type": "display_data"
    }
   ],
   "source": [
    "time_train_median = time_train.median(axis = 1, skipna = True).fillna(0)\n",
    "time_test_melt = pd.melt(time_test, id_vars = [\"Page\"])\n",
    "time_train_median_frame = time_train.loc[:, \"Page\"].to_frame(name = \"Page\").assign(page_median = time_train_median)\n",
    "time_test_melt_join = time_test_melt.merge(time_train_median_frame, on = \"Page\", how = \"left\")\n",
    "page_median_log = time_test_melt_join.loc[:, \"page_median\"]\n",
    "page_median_log[page_median_log == 0] = 1\n",
    "page_median_log = np.log(page_median_log.values)\n",
    "page_observed_log = time_test_melt_join.loc[:, \"value\"]\n",
    "page_observed_log[page_observed_log == 0] = 1\n",
    "page_observed_log = np.log(page_observed_log.values)\n",
    "plt.scatter(page_median_log, page_observed_log)"
   ]
  },
  {
   "cell_type": "markdown",
   "metadata": {},
   "source": [
    "The median is highly correlated with the future values its associated time series, suggesting that it may be a useful feature for prediction."
   ]
  },
  {
   "cell_type": "code",
   "execution_count": null,
   "metadata": {
    "collapsed": true
   },
   "outputs": [],
   "source": []
  }
 ],
 "metadata": {
  "kernelspec": {
   "display_name": "Python 3",
   "language": "python",
   "name": "python3"
  },
  "language_info": {
   "codemirror_mode": {
    "name": "ipython",
    "version": 3
   },
   "file_extension": ".py",
   "mimetype": "text/x-python",
   "name": "python",
   "nbconvert_exporter": "python",
   "pygments_lexer": "ipython3",
   "version": "3.6.0"
  }
 },
 "nbformat": 4,
 "nbformat_minor": 2
}
