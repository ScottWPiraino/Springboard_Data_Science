{
 "cells": [
  {
   "cell_type": "markdown",
   "metadata": {},
   "source": [
    "This notebook makes predictions using Prophet for all time series that I wish to predict for. When acutally making the predictions during the competition, I acutally ran multiple scripts like this one in parallel to speed up the computations, but I'm including this single script for readability. I start out by building up a function which takes data from a single time series as input, and outputs predictions from prophet for the last 62 days of the series, as well as the 30 day median prior to these days, and also the observed value of the series for those days. I then loop over all time series in the dataset and make predictions on that series."
   ]
  },
  {
   "cell_type": "code",
   "execution_count": null,
   "metadata": {
    "collapsed": true
   },
   "outputs": [],
   "source": [
    "import pandas as pd\n",
    "import numpy as np\n",
    "from fbprophet import Prophet\n",
    "\n",
    "def estimate_prophet(row_index, future_periods = 62):\n",
    "    test_row_name = time_train.iloc[row_index, 0]\n",
    "    test_row = time_train.iloc[row_index, 1:-future_periods]\n",
    "    future_row = time_train.iloc[row_index, -future_periods:]\n",
    "    test_row_df = pd.DataFrame(index=range(0, len(test_row)))\n",
    "    test_row_df['ds'] = pd.to_datetime(test_row.index)\n",
    "    test_row_df['y'] = test_row.values.astype(\"float\")\n",
    "    prophet_model = Prophet(yearly_seasonality = False)\n",
    "    prophet_model.fit(test_row_df)\n",
    "    test_row_future = prophet_model.make_future_dataframe(periods = future_periods)\n",
    "    test_row_forecast = prophet_model.predict(test_row_future.iloc[-future_periods:, :])\n",
    "    return(test_row_forecast.iloc[:, [0,-1]].assign(series_name = test_row_name).assign(observed_y = future_row.values).assign(y_median = time_train.iloc[row_index, -(future_periods + 30):-future_periods].median()))\n",
    "\n",
    "def estimate_prophet_error(row_index, future_periods = 62):\n",
    "    test_row_name = time_train.iloc[row_index, 0]\n",
    "    test_row = time_train.iloc[row_index, 1:-future_periods]\n",
    "    future_row = time_train.iloc[row_index, -future_periods:]\n",
    "    dummy_row = time_train.iloc[0, 1:-future_periods]\n",
    "    test_row_df = pd.DataFrame(index=range(0, len(dummy_row)))\n",
    "    test_row_df['ds'] = pd.to_datetime(dummy_row.index)\n",
    "    test_row_df['y'] = dummy_row.values.astype(\"float\")\n",
    "    prophet_model = Prophet(yearly_seasonality = False)\n",
    "    prophet_model.fit(test_row_df)\n",
    "    test_row_future = prophet_model.make_future_dataframe(periods = future_periods)\n",
    "    test_row_forecast = prophet_model.predict(test_row_future.iloc[-future_periods:, :])\n",
    "    return(test_row_forecast.iloc[:, [0,-1]].assign(series_name = test_row_name).assign(observed_y = future_row.values).assign(y_median = time_train.iloc[row_index, -(future_periods + 30):-future_periods].median()).assign(yhat = time_train.iloc[row_index, -(future_periods + 30):-future_periods].median()))"
   ]
  },
  {
   "cell_type": "code",
   "execution_count": null,
   "metadata": {
    "collapsed": true
   },
   "outputs": [],
   "source": [
    "time_train = pd.read_csv(\"train_2_final.csv\")\n",
    "time_train[:, :-62]\n",
    "time_key = pd.read_csv(\"key_2.csv\")\n",
    "time_sample_sub = pd.read_csv(\"sample_submission_2.csv\")\n",
    "time_train.head()"
   ]
  },
  {
   "cell_type": "code",
   "execution_count": null,
   "metadata": {
    "collapsed": true
   },
   "outputs": [],
   "source": [
    "prophet_results_full = pd.DataFrame()\n",
    "for i in range(0, time_train.shape[0]):\n",
    "    try:\n",
    "        prophet_res = estimate_prophet(i)\n",
    "        prophet_results_full = prophet_results_full.append(prophet_res, ignore_index = True)\n",
    "        \n",
    "    except:\n",
    "        prophet_res = estimate_prophet_error(i)\n",
    "        prophet_results_full = prophet_results_full.append(prophet_res, ignore_index = True)\n",
    "    \n",
    "prophet_results_full.to_csv(\"kaggle_time_train_prophet_results_all_series_train.csv\", index = False)"
   ]
  }
 ],
 "metadata": {
  "kernelspec": {
   "display_name": "Python 3",
   "language": "python",
   "name": "python3"
  },
  "language_info": {
   "codemirror_mode": {
    "name": "ipython",
    "version": 3
   },
   "file_extension": ".py",
   "mimetype": "text/x-python",
   "name": "python",
   "nbconvert_exporter": "python",
   "pygments_lexer": "ipython3",
   "version": "3.5.3"
  }
 },
 "nbformat": 4,
 "nbformat_minor": 2
}
