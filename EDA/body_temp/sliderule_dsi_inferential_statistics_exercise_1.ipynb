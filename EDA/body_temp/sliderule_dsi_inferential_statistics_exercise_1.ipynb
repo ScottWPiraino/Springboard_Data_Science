{
 "cells": [
  {
   "cell_type": "markdown",
   "metadata": {},
   "source": [
    "# What is the True Normal Human Body Temperature? \n",
    "\n",
    "#### Background\n",
    "\n",
    "The mean normal body temperature was held to be 37$^{\\circ}$C or 98.6$^{\\circ}$F for more than 120 years since it was first conceptualized and reported by Carl Wunderlich in a famous 1868 book. But, is this value statistically correct?"
   ]
  },
  {
   "cell_type": "markdown",
   "metadata": {},
   "source": [
    "<div class=\"span5 alert alert-info\">\n",
    "<h3>Exercises</h3>\n",
    "\n",
    "<p>In this exercise, you will analyze a dataset of human body temperatures and employ the concepts of hypothesis testing, confidence intervals, and statistical significance.</p>\n",
    "\n",
    "<p>Answer the following questions <b>in this notebook below and submit to your Github account</b>.</p> \n",
    "\n",
    "<ol>\n",
    "<li>  Is the distribution of body temperatures normal? \n",
    "    <ul>\n",
    "    <li> Although this is not a requirement for CLT to hold (read CLT carefully), it gives us some peace of mind that the population may also be normally distributed if we assume that this sample is representative of the population.\n",
    "    </ul>\n",
    "<li>  Is the sample size large? Are the observations independent?\n",
    "    <ul>\n",
    "    <li> Remember that this is a condition for the CLT, and hence the statistical tests we are using, to apply.\n",
    "    </ul>\n",
    "<li>  Is the true population mean really 98.6 degrees F?\n",
    "    <ul>\n",
    "    <li> Would you use a one-sample or two-sample test? Why?\n",
    "    <li> In this situation, is it appropriate to use the $t$ or $z$ statistic? \n",
    "    <li> Now try using the other test. How is the result be different? Why?\n",
    "    </ul>\n",
    "<li>  At what temperature should we consider someone's temperature to be \"abnormal\"?\n",
    "    <ul>\n",
    "    <li> Start by computing the margin of error and confidence interval.\n",
    "    </ul>\n",
    "<li>  Is there a significant difference between males and females in normal temperature?\n",
    "    <ul>\n",
    "    <li> What test did you use and why?\n",
    "    <li> Write a story with your conclusion in the context of the original problem.\n",
    "    </ul>\n",
    "</ol>\n",
    "\n",
    "You can include written notes in notebook cells using Markdown: \n",
    "   - In the control panel at the top, choose Cell > Cell Type > Markdown\n",
    "   - Markdown syntax: http://nestacms.com/docs/creating-content/markdown-cheat-sheet\n",
    "\n",
    "#### Resources\n",
    "\n",
    "+ Information and data sources: http://www.amstat.org/publications/jse/datasets/normtemp.txt, http://www.amstat.org/publications/jse/jse_data_archive.htm\n",
    "+ Markdown syntax: http://nestacms.com/docs/creating-content/markdown-cheat-sheet\n",
    "\n",
    "****"
   ]
  },
  {
   "cell_type": "code",
   "execution_count": 1,
   "metadata": {
    "collapsed": false
   },
   "outputs": [],
   "source": [
    "import pandas as pd\n",
    "import numpy as np\n",
    "import scipy as sp\n",
    "import seaborn as sb\n",
    "import matplotlib.pyplot as plt\n",
    "#%matplotlib inline\n",
    "\n",
    "df = pd.read_csv('data/human_body_temperature.csv')"
   ]
  },
  {
   "cell_type": "markdown",
   "metadata": {},
   "source": [
    "## Question 1"
   ]
  },
  {
   "cell_type": "markdown",
   "metadata": {},
   "source": [
    "To determine if the temperature measurements are approximately normal, I first plot the temp data both in a histrogram with an associated kernel desnity estimate of the pdf, as well the standardized (mean centered and standard deviation scaled) temp data in a quantile-quantile plot. These plots are available as seperate .pdf files:"
   ]
  },
  {
   "cell_type": "code",
   "execution_count": 2,
   "metadata": {
    "collapsed": false,
    "scrolled": false
   },
   "outputs": [
    {
     "name": "stderr",
     "output_type": "stream",
     "text": [
      "/Users/scottpiraino/anaconda/lib/python3.6/site-packages/statsmodels/nonparametric/kdetools.py:20: VisibleDeprecationWarning: using a non-integer number instead of an integer will result in an error in the future\n",
      "  y = X[:m/2+1] + np.r_[0,X[m/2+1:],0]*1j\n"
     ]
    }
   ],
   "source": [
    "sb.distplot(df.temperature, bins = 15, rug = True)\n",
    "plt.savefig('histogram.pdf')"
   ]
  },
  {
   "cell_type": "code",
   "execution_count": 3,
   "metadata": {
    "collapsed": false
   },
   "outputs": [],
   "source": [
    "standard_temp = (df.temperature - df.temperature.mean())/(df.temperature.std())\n",
    "temp_qq = sp.stats.probplot(standard_temp, dist=\"norm\", plot=plt)\n",
    "plt.savefig('Q-Q.pdf')"
   ]
  },
  {
   "cell_type": "markdown",
   "metadata": {},
   "source": [
    "The histrogram appears approximately normal, and the Q-Q plot shows that the quantiles of the data match the theoretical quantiles fairly well."
   ]
  },
  {
   "cell_type": "markdown",
   "metadata": {},
   "source": [
    "## Question 2"
   ]
  },
  {
   "cell_type": "markdown",
   "metadata": {},
   "source": [
    "I check the number of observations in the temperature data:"
   ]
  },
  {
   "cell_type": "code",
   "execution_count": 4,
   "metadata": {
    "collapsed": false
   },
   "outputs": [
    {
     "name": "stdout",
     "output_type": "stream",
     "text": [
      "130\n"
     ]
    }
   ],
   "source": [
    "print(len(df.temperature))"
   ]
  },
  {
   "cell_type": "markdown",
   "metadata": {},
   "source": [
    "With no apparent strong skew or strong non-normality, 130 observations should be sufficient for standard t statistics to have approximately the appropriate sampling distrubtion. There is no way to check that the observations are independent, but if each observation of temperature is taken from a differnt person and these people generally don't interact with each other, it is reasonable to think that the observations will be approximately independent."
   ]
  },
  {
   "cell_type": "markdown",
   "metadata": {},
   "source": [
    "## Question 3"
   ]
  },
  {
   "cell_type": "markdown",
   "metadata": {},
   "source": [
    "We wish to test whether a group of observations has a certain mean, as opposed to whether multiple groups differ in their means, so we should use a one sample test. Since the population variance is unknown, a t-test is appropriate. I present the result of a one sample t-test against the null hypothesis that the mean body temp is 98.6 below:"
   ]
  },
  {
   "cell_type": "code",
   "execution_count": 5,
   "metadata": {
    "collapsed": false
   },
   "outputs": [
    {
     "name": "stdout",
     "output_type": "stream",
     "text": [
      "98.24923076923078\n",
      "0.7331831580389454\n"
     ]
    },
    {
     "data": {
      "text/plain": [
       "Ttest_1sampResult(statistic=-5.4548232923645195, pvalue=2.4106320415561276e-07)"
      ]
     },
     "execution_count": 5,
     "metadata": {},
     "output_type": "execute_result"
    }
   ],
   "source": [
    "print(df.temperature.mean())\n",
    "print(df.temperature.std())\n",
    "# t-test\n",
    "sp.stats.ttest_1samp(df.temperature, 98.6)"
   ]
  },
  {
   "cell_type": "markdown",
   "metadata": {},
   "source": [
    "This indicates that the mean temperature of this data is statistically significantly differnt from 98.6. For comparison, the p-value of a z-test is:"
   ]
  },
  {
   "cell_type": "code",
   "execution_count": 6,
   "metadata": {
    "collapsed": false
   },
   "outputs": [
    {
     "data": {
      "text/plain": [
       "4.9021570141133797e-08"
      ]
     },
     "execution_count": 6,
     "metadata": {},
     "output_type": "execute_result"
    }
   ],
   "source": [
    "# z-test\n",
    "temp_z_stat = (df.temperature.mean() - 98.6)/(df.temperature.std()/(np.sqrt(len(df.temperature))))\n",
    "# Test statistic is negative, so the one sided p-value is P(z < Z), \n",
    "# which is simply the standard normal cdf evaluated at the test statistic.\n",
    "# I double this p-value to get the two-sided p-value.\n",
    "2 * sp.stats.norm.cdf(temp_z_stat)"
   ]
  },
  {
   "cell_type": "markdown",
   "metadata": {},
   "source": [
    "The p-value for the z-test is lower than the t-test, which is expected because the t distribution has heavier tails than the normal which are used to account for the additional variance in the test statistic that results from not knowing the population variance. In this case, the qualitative conclusions of the two tests are similar."
   ]
  },
  {
   "cell_type": "markdown",
   "metadata": {},
   "source": [
    "## Question 4"
   ]
  },
  {
   "cell_type": "markdown",
   "metadata": {},
   "source": [
    "There are many ways that \"abnormal\" could be interpreted. Because the most obvious application for this data is in a medical context, I choose to construct a [reference range](https://en.wikipedia.org/wiki/Reference_range) using a [normal prediction interval](https://en.wikipedia.org/wiki/Prediction_interval#Unknown_mean.2C_unknown_variance):"
   ]
  },
  {
   "cell_type": "code",
   "execution_count": 7,
   "metadata": {
    "collapsed": false
   },
   "outputs": [
    {
     "data": {
      "text/plain": [
       "[96.793041311796571, 99.705420226664984]"
      ]
     },
     "execution_count": 7,
     "metadata": {},
     "output_type": "execute_result"
    }
   ],
   "source": [
    "# t-based confidence interval \n",
    "# Need to change this to predition interval\n",
    "crit_t = sp.stats.t.ppf(0.975, len(df.temperature) - 1)\n",
    "pi_width = crit_t * df.temperature.std() * np.sqrt((1 + 1/(len(df.temperature))))\n",
    "upper_lim = df.temperature.mean() + pi_width\n",
    "lower_lim = df.temperature.mean() - pi_width\n",
    "#temp_sem = df.temperature.std()/(np.sqrt(len(df.temperature)))\n",
    "#upper_lim = df.temperature.mean() + crit_t * temp_sem\n",
    "#lower_lim = df.temperature.mean() - crit_t * temp_sem\n",
    "[lower_lim, upper_lim]"
   ]
  },
  {
   "cell_type": "markdown",
   "metadata": {},
   "source": [
    "This interval can serve as a method of determining if an individual person's temperature is normal or abnormal. Note that this is not a confidence interval for the mean, because a confidence interval on the mean can not be validly interpreted as determining whether individual observations are normal or abnormal."
   ]
  },
  {
   "cell_type": "markdown",
   "metadata": {},
   "source": [
    "## Question 5"
   ]
  },
  {
   "cell_type": "markdown",
   "metadata": {},
   "source": [
    "I conduct a two sample t-test testing the whether men and women differ in terms of mean temperature, against the null that they have the same mean temperature:"
   ]
  },
  {
   "cell_type": "code",
   "execution_count": 8,
   "metadata": {
    "collapsed": false
   },
   "outputs": [
    {
     "name": "stdout",
     "output_type": "stream",
     "text": [
      "98.1046153846154\n",
      "98.39384615384613\n"
     ]
    },
    {
     "data": {
      "text/plain": [
       "Ttest_indResult(statistic=-2.2854345381656112, pvalue=0.023938264182934196)"
      ]
     },
     "execution_count": 8,
     "metadata": {},
     "output_type": "execute_result"
    }
   ],
   "source": [
    "print(df.temperature[df.gender == \"M\"].mean())\n",
    "print(df.temperature[df.gender == \"F\"].mean())\n",
    "sp.stats.ttest_ind(df.temperature[df.gender == \"M\"], df.temperature[df.gender == \"F\"], equal_var = False)"
   ]
  },
  {
   "cell_type": "markdown",
   "metadata": {
    "collapsed": true
   },
   "source": [
    "The results of this test indicate that the mean temperatures for men and womena are statistically significantly different, with men having a slightly lower mean temperature compared to women. Both means are below the putative 98.6 value. In the context of the question of the accuracy of the 98.6 number, the one_sample tests above indicate that this number is potentially off slightly, and there might be more accurate numbers to use as generic mean human body temperature. The two sample test indicates that men and women may differ slightly in mean body temperature, so quoting a single number may also disquise these differences. "
   ]
  },
  {
   "cell_type": "markdown",
   "metadata": {},
   "source": [
    "One the other hand, perhaps we should not be too concerned with whether the mean temperature is exactly 98.6, but whether 98.6 and reference ranges associated with it would be reasonable to use in clinical practice. Consider a reference range of the same width as the one above, but centered on 98.6 instead of the sample mean:"
   ]
  },
  {
   "cell_type": "code",
   "execution_count": 9,
   "metadata": {
    "collapsed": false
   },
   "outputs": [
    {
     "data": {
      "text/plain": [
       "[97.143810542565788, 100.0561894574342]"
      ]
     },
     "execution_count": 9,
     "metadata": {},
     "output_type": "execute_result"
    }
   ],
   "source": [
    "[98.6 - pi_width, 98.6 + pi_width]"
   ]
  },
  {
   "cell_type": "markdown",
   "metadata": {},
   "source": [
    "This interval and the interval above form two particially overlapping ranges. Temperatures in [-Inf, 96.793041311796571] U [100.0561894574342, Inf] will be considered abnormal by either interval.  Temperatures in [97.143810542565788, 99.705420226664984] will be considered normal by either interval. We could consider an individual to be misclassified due to using 98.6 as the mean temperature if their classification would be changed by using 98.6 as the mean, which occurs when the temperature falls in [96.793041311796571, 97.143810542565788] U [99.705420226664984, 100.0561894574342]. I calculate the proportion of the sample that would have been misclassified:"
   ]
  },
  {
   "cell_type": "code",
   "execution_count": 10,
   "metadata": {
    "collapsed": false
   },
   "outputs": [
    {
     "data": {
      "text/plain": [
       "0.06153846153846154"
      ]
     },
     "execution_count": 10,
     "metadata": {},
     "output_type": "execute_result"
    }
   ],
   "source": [
    "left_misclass = len(df.temperature[(df.temperature > 96.793041311796571)  & (df.temperature < 97.143810542565788)])\n",
    "right_misclass = len(df.temperature[(df.temperature > 99.705420226664984)  & (df.temperature < 100.0561894574342)])\n",
    "misclass_rate = (left_misclass + right_misclass)/len(df.temperature)\n",
    "misclass_rate"
   ]
  },
  {
   "cell_type": "markdown",
   "metadata": {},
   "source": [
    "This is small but potentially significant in a medical context. Similar analyses are possible with regard to gender to determine how impactful using the combined mean instead of the gender-level means or the 98.6 value would be in terms of misclassification.  \n",
    "  \n",
    "Finally, it is worth considering whether there could be issues with the measurements. For example, perhaps the measuring device used for this sample was miscalibrated."
   ]
  },
  {
   "cell_type": "code",
   "execution_count": null,
   "metadata": {
    "collapsed": true
   },
   "outputs": [],
   "source": []
  }
 ],
 "metadata": {
  "kernelspec": {
   "display_name": "Python 3",
   "language": "python",
   "name": "python3"
  },
  "language_info": {
   "codemirror_mode": {
    "name": "ipython",
    "version": 3
   },
   "file_extension": ".py",
   "mimetype": "text/x-python",
   "name": "python",
   "nbconvert_exporter": "python",
   "pygments_lexer": "ipython3",
   "version": "3.6.0"
  }
 },
 "nbformat": 4,
 "nbformat_minor": 0
}
