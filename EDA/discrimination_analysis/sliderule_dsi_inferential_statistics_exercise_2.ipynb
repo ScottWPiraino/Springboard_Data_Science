{
 "cells": [
  {
   "cell_type": "markdown",
   "metadata": {},
   "source": [
    "# Examining Racial Discrimination in the US Job Market\n",
    "\n",
    "### Background\n",
    "Racial discrimination continues to be pervasive in cultures throughout the world. Researchers examined the level of racial discrimination in the United States labor market by randomly assigning identical résumés to black-sounding or white-sounding names and observing the impact on requests for interviews from employers.\n",
    "\n",
    "### Data\n",
    "In the dataset provided, each row represents a resume. The 'race' column has two values, 'b' and 'w', indicating black-sounding and white-sounding. The column 'call' has two values, 1 and 0, indicating whether the resume received a call from employers or not.\n",
    "\n",
    "Note that the 'b' and 'w' values in race are assigned randomly to the resumes when presented to the employer."
   ]
  },
  {
   "cell_type": "markdown",
   "metadata": {},
   "source": [
    "### Exercises\n",
    "You will perform a statistical analysis to establish whether race has a significant impact on the rate of callbacks for resumes.\n",
    "\n",
    "Answer the following questions **in this notebook below and submit to your Github account**. \n",
    "\n",
    "   1. What test is appropriate for this problem? Does CLT apply?\n",
    "   2. What are the null and alternate hypotheses?\n",
    "   3. Compute margin of error, confidence interval, and p-value.\n",
    "   4. Write a story describing the statistical significance in the context or the original problem.\n",
    "   5. Does your analysis mean that race/name is the most important factor in callback success? Why or why not? If not, how would you amend your analysis?\n",
    "\n",
    "You can include written notes in notebook cells using Markdown: \n",
    "   - In the control panel at the top, choose Cell > Cell Type > Markdown\n",
    "   - Markdown syntax: http://nestacms.com/docs/creating-content/markdown-cheat-sheet\n",
    "\n",
    "\n",
    "#### Resources\n",
    "+ Experiment information and data source: http://www.povertyactionlab.org/evaluation/discrimination-job-market-united-states\n",
    "+ Scipy statistical methods: http://docs.scipy.org/doc/scipy/reference/stats.html \n",
    "+ Markdown syntax: http://nestacms.com/docs/creating-content/markdown-cheat-sheet\n",
    "</div>\n",
    "****"
   ]
  },
  {
   "cell_type": "code",
   "execution_count": 1,
   "metadata": {
    "collapsed": true
   },
   "outputs": [],
   "source": [
    "import pandas as pd\n",
    "import numpy as np\n",
    "from scipy import stats"
   ]
  },
  {
   "cell_type": "code",
   "execution_count": 2,
   "metadata": {
    "collapsed": false
   },
   "outputs": [],
   "source": [
    "data = pd.io.stata.read_stata('data/us_job_market_discrimination.dta')"
   ]
  },
  {
   "cell_type": "markdown",
   "metadata": {},
   "source": [
    "## Question 1"
   ]
  },
  {
   "cell_type": "markdown",
   "metadata": {},
   "source": [
    "The appropriate test is a two sample test for differences between proportions. The applicability of the CLT depends in part on the number of observations in each category, which I display below:"
   ]
  },
  {
   "cell_type": "code",
   "execution_count": 3,
   "metadata": {
    "collapsed": false
   },
   "outputs": [
    {
     "name": "stdout",
     "output_type": "stream",
     "text": [
      "157.0\n",
      "235.0\n",
      "2278.0\n",
      "2200.0\n"
     ]
    }
   ],
   "source": [
    "# number of callbacks for black-sounding names\n",
    "b_call = sum(data[data.race=='b'].call)\n",
    "print(b_call)\n",
    "# number of callbacks for white-sounding names\n",
    "w_call = sum(data[data.race=='w'].call)\n",
    "print(w_call)\n",
    "# number of non-callbacks for black-sounding names\n",
    "b_nocall = sum(-1 * (data[data.race=='b'].call - 1))\n",
    "print(b_nocall)\n",
    "# number of non-callbacks for white-sounding names\n",
    "w_nocall = sum(-1 * (data[data.race=='w'].call - 1))\n",
    "print(w_nocall)"
   ]
  },
  {
   "cell_type": "markdown",
   "metadata": {},
   "source": [
    "These are reasonably large, so the CLT would potentially be a reasonable assumption."
   ]
  },
  {
   "cell_type": "markdown",
   "metadata": {
    "collapsed": false
   },
   "source": [
    "## Question 2"
   ]
  },
  {
   "cell_type": "markdown",
   "metadata": {
    "collapsed": true
   },
   "source": [
    "The null hypothesis is that there is no difference between the proportion of white-sounding resumes which recieve calls and the number of black-sounding resumes which recieve calls. The alternative hypothesis is that their is a difference."
   ]
  },
  {
   "cell_type": "markdown",
   "metadata": {},
   "source": [
    "## Question 3"
   ]
  },
  {
   "cell_type": "markdown",
   "metadata": {},
   "source": [
    "I calculate the p-value for the difference in proportions using a chi-square test and the confidence interval for the difference in proportions based on normal theory:"
   ]
  },
  {
   "cell_type": "code",
   "execution_count": 4,
   "metadata": {
    "collapsed": false
   },
   "outputs": [
    {
     "data": {
      "text/plain": [
       "(16.449028584189371, 4.9975783899632552e-05, 1, array([[  196.,  2239.],\n",
       "        [  196.,  2239.]]))"
      ]
     },
     "execution_count": 4,
     "metadata": {},
     "output_type": "execute_result"
    }
   ],
   "source": [
    "call_table = np.array([[b_call, b_nocall], [w_call, w_nocall]])\n",
    "stats.chi2_contingency(call_table)"
   ]
  },
  {
   "cell_type": "code",
   "execution_count": 5,
   "metadata": {
    "collapsed": false
   },
   "outputs": [
    {
     "data": {
      "text/plain": [
       "[0.016777728181230755, 0.047287980237660412]"
      ]
     },
     "execution_count": 5,
     "metadata": {},
     "output_type": "execute_result"
    }
   ],
   "source": [
    "w_n = w_call + w_nocall\n",
    "w_prop = w_call/w_n\n",
    "b_n = b_call + b_nocall\n",
    "b_prop = b_call/b_n\n",
    "prop_diff = (w_prop - b_prop)\n",
    "diff_se = np.sqrt(((w_prop * (1 - w_prop))/w_n) + ((b_prop * (1 - b_prop))/b_n))\n",
    "crit_z = stats.norm.ppf(0.975)\n",
    "[prop_diff - (crit_z * diff_se), prop_diff + (crit_z * diff_se)]"
   ]
  },
  {
   "cell_type": "markdown",
   "metadata": {},
   "source": [
    "## Question 4"
   ]
  },
  {
   "cell_type": "markdown",
   "metadata": {},
   "source": [
    "The p-value and CI show that there is a statistically significant difference between the call rates between black- and white-sounding names. I calculate the difference in proportions as the call proportion among white-sounding resumes minus the respective proportion for black-sounding resumes. As a result, the sign of the observed difference indicates that resumes with black-sounding names are called less frequently, potentially indicating that people with black-sounding names face disadvantages on the job market."
   ]
  },
  {
   "cell_type": "markdown",
   "metadata": {},
   "source": [
    "## Question 5"
   ]
  },
  {
   "cell_type": "markdown",
   "metadata": {},
   "source": [
    "This analysis only evaluates the effect of black- or white-sounding names, so it can not directly be used to evaluate the importance of name/race relative to other factors, and does not indicate that race/name is the \"most important\" factor. The effect of race/name could be compared to the impact of other factors by measuring and/or manipulating other factors and comparing the level of impact that other factors have with that of race/name. "
   ]
  }
 ],
 "metadata": {
  "kernelspec": {
   "display_name": "Python 3",
   "language": "python",
   "name": "python3"
  },
  "language_info": {
   "codemirror_mode": {
    "name": "ipython",
    "version": 3
   },
   "file_extension": ".py",
   "mimetype": "text/x-python",
   "name": "python",
   "nbconvert_exporter": "python",
   "pygments_lexer": "ipython3",
   "version": "3.6.0"
  }
 },
 "nbformat": 4,
 "nbformat_minor": 0
}
